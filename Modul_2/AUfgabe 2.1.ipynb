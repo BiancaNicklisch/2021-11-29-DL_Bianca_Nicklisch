{
 "cells": [
  {
   "cell_type": "code",
   "execution_count": 1,
   "id": "36e62707",
   "metadata": {},
   "outputs": [],
   "source": [
    "import json"
   ]
  },
  {
   "cell_type": "code",
   "execution_count": 2,
   "id": "786e7eba",
   "metadata": {},
   "outputs": [],
   "source": [
    "url = \"https://www.bibsonomy.org/json/search/social%20politic\" "
   ]
  },
  {
   "cell_type": "code",
   "execution_count": 3,
   "id": "13846393",
   "metadata": {},
   "outputs": [],
   "source": [
    "import requests\n"
   ]
  },
  {
   "cell_type": "code",
   "execution_count": 4,
   "id": "a8b2bdb7",
   "metadata": {},
   "outputs": [],
   "source": [
    "response = requests.get(url)\n",
    "data = response.json()"
   ]
  },
  {
   "cell_type": "code",
   "execution_count": 5,
   "id": "622a2c9a",
   "metadata": {},
   "outputs": [],
   "source": [
    "data_as_json = json.dumps(data, indent=2)"
   ]
  },
  {
   "cell_type": "code",
   "execution_count": 6,
   "id": "e922fd0b",
   "metadata": {},
   "outputs": [],
   "source": [
    "json_filename = \"bibsonomy_original.json\"\n",
    "with open(json_filename, \"w\") as file:\n",
    "    file.write(data_as_json)"
   ]
  },
  {
   "cell_type": "code",
   "execution_count": 7,
   "id": "71ca372d",
   "metadata": {},
   "outputs": [],
   "source": [
    "items = data['items']\n"
   ]
  },
  {
   "cell_type": "code",
   "execution_count": 8,
   "id": "648bcb21",
   "metadata": {},
   "outputs": [],
   "source": [
    "publications = [item for item in items if item['type'] == 'Publication']"
   ]
  },
  {
   "cell_type": "code",
   "execution_count": 9,
   "id": "00f8049b",
   "metadata": {},
   "outputs": [],
   "source": [
    "from xml.sax.saxutils import escape"
   ]
  },
  {
   "cell_type": "code",
   "execution_count": 10,
   "id": "6bace956",
   "metadata": {},
   "outputs": [],
   "source": [
    "xml_filename = \"bibsonomy.xml\"\n"
   ]
  },
  {
   "cell_type": "code",
   "execution_count": 11,
   "id": "ce455a8a",
   "metadata": {},
   "outputs": [],
   "source": [
    "data_as_xml = '<?xml version=\"1.0\" encoding=\"UTF-8\"?>'"
   ]
  },
  {
   "cell_type": "code",
   "execution_count": 12,
   "id": "384c5536",
   "metadata": {},
   "outputs": [],
   "source": [
    "data_as_xml += \"<publications>\"\n",
    "\n",
    "\n",
    "for i, item in enumerate(publications):\n",
    "  \n",
    "    data_as_xml += \"<publication>\"\n",
    "    \n",
    "  \n",
    "    data_as_xml += \"<id>\" + str(i+1) + \"</id>\"\n",
    "    \n",
    "\n",
    "    if \"label\" in item:\n",
    "        data_as_xml += \"<title>\" + escape(item[\"label\"]) + \"</title>\"\n",
    "    \n",
    "    \n",
    "    if \"author\" in item:\n",
    "        data_as_xml += \"<authors>\"\n",
    "        for author in item[\"author\"]:\n",
    "            \n",
    "            data_as_xml += \"<author>\" + escape(author) + \"</author>\"\n",
    "        data_as_xml += \"</authors>\"\n",
    "    \n",
    "   \n",
    "    if \"editor\" in item:\n",
    "        data_as_xml += \"<editors>\"\n",
    "        for editor in item[\"editor\"]:\n",
    "            \n",
    "            data_as_xml += \"<editor>\" + escape(editor) + \"</editor>\"\n",
    "        data_as_xml += \"</editors>\"\n",
    "        \n",
    "    \n",
    "    if \"abstract\" in item:\n",
    "        data_as_xml += \"<abstract>\" + escape(item[\"abstract\"]) + \"</abstract>\"\n",
    "        \n",
    "   \n",
    "    if \"publisher\" in item:\n",
    "        data_as_xml += \"<publisher>\" + escape(item[\"publisher\"]) + \"</publisher>\"\n",
    "        \n",
    "   \n",
    "    if \"year\" in item:\n",
    "        data_as_xml += \"<year>\" + escape(item[\"year\"]) + \"</year>\"\n",
    "    \n",
    "   \n",
    "    if \"isbn\" in item:\n",
    "        data_as_xml += \"<isbn>\" + escape(item[\"isbn\"]) + \"</isbn>\"\n",
    "    \n",
    "    \n",
    "    if \"url\" in item:\n",
    "        data_as_xml += \"<url>\" + escape(item[\"url\"]) + \"</url>\"\n",
    "        \n",
    "   \n",
    "    if \"ee\" in item:\n",
    "        data_as_xml += \"<ee>\" + escape(item[\"ee\"]) + \"</ee>\"\n",
    "        \n",
    "  \n",
    "    if \"bibtexKey\" in item:\n",
    "        data_as_xml += \"<bibtexKey>\" + escape(item[\"bibtexKey\"]) + \"</bibtexKey>\"\n",
    "    \n",
    "    \n",
    "    if \"id\" in item:\n",
    "        data_as_xml += \"<bibsonomy_id>\" + escape(item[\"id\"]) + \"</bibsonomy_id>\"\n",
    "    \n",
    "    \n",
    "    data_as_xml += \"</publication>\""
   ]
  },
  {
   "cell_type": "code",
   "execution_count": 13,
   "id": "8b4eb8a4",
   "metadata": {},
   "outputs": [],
   "source": [
    "data_as_xml += \"</publications>\""
   ]
  },
  {
   "cell_type": "code",
   "execution_count": 14,
   "id": "5f022f3c",
   "metadata": {},
   "outputs": [],
   "source": [
    "import xml.dom.minidom\n",
    "with open(xml_filename, \"w\") as file:\n",
    "    file.write(data_as_xml)"
   ]
  },
  {
   "cell_type": "code",
   "execution_count": 15,
   "id": "8007fa69",
   "metadata": {},
   "outputs": [],
   "source": [
    "dom = xml.dom.minidom.parse(xml_filename)\n",
    "pretty_xml = dom.toprettyxml(indent=\"    \")"
   ]
  },
  {
   "cell_type": "code",
   "execution_count": 16,
   "id": "8e970efa",
   "metadata": {},
   "outputs": [],
   "source": [
    "with open(xml_filename, \"w\") as file:\n",
    "    file.write(pretty_xml)\n"
   ]
  },
  {
   "cell_type": "code",
   "execution_count": 17,
   "id": "b13034e2",
   "metadata": {},
   "outputs": [
    {
     "name": "stdout",
     "output_type": "stream",
     "text": [
      "<?xml version=\"1.0\" ?>\n",
      "<publications>\n",
      "    <publication>\n",
      "        <id>1</id>\n",
      "        <title>A book of the body politic : connecting biology, politics and social theory</title>\n",
      "        <authors>\n",
      "            <author>Bruno Latour</author>\n",
      "            <author>Simon Schaffer</author>\n",
      "            <author>Pasquale Gagliardi</author>\n",
      "        </authors>\n",
      "        <year>2020</year>\n",
      "        <isbn>9788896445228 8896445221</isbn>\n",
      "        <url>https://www.worldcat.org/title/book-of-the-body-politic-connecting-biology-politics-and-social-theory/oclc/1226720171&amp;referer=brief_results</url>\n",
      "        <bibtexKey>latour2020politic</bibtexKey>\n",
      "        <bibsonomy_id>https://www.bibsonomy.org/bibtex/2717a03038e1e11a0afb84e2f10e46f55/gdmcbain</bibsonomy_id>\n",
      "    </publication>\n",
      "    <publication>\n",
      "        <id>2</id>\n",
      "        <title>Diversity writ large</title>\n",
      "        <authors>\n",
      "            <author>Ngaire Bissett</author>\n",
      "        </authors>\n",
      "        <abstract>Both postmodernism and corporate culturalism, each in distinctly different ways, have had the effect of suppressing links between diverse populations and identity politics in regards to the work environment. For example, the &quot;politics of difference&quot; debates of the 1980s began to take on ominous developments in the 1990s with the dispersal of multiple identity characteristics into a fragmented morass. In turn, personal diversity attributes have been collapsed into the agenda of corporate cultural cloning such that an individual's presentation of self is expected to conform to malestream managerial characterisations. However, there is evidence of contradictory impulses associated with these events, which provides space to envisage a contemporary form of community-orientated activism that avoids the dilemmas of overly disparate difference approaches and narrowly prescribed models of subjectivity. This article describes how such a committed social movement politic might be operationalised in organisational teaching contexts. The objective is to demonstrate the relevance of poststructural feminist ideas of communities of practice and notions of relationalism as a substantial charter for enriching organisational life. Ironically, in the current &quot;new economy&quot; environment, the discourse of management itself provides a means for such an endeavour to be legitimated. The article addresses the crucial factors required to achieve this substantive change process via expanded notions of difference, diversity and hybridity.</abstract>\n",
      "        <publisher>Emerald</publisher>\n",
      "        <year>2004</year>\n",
      "        <url>https://doi.org/10.1108%2F09534810410538360</url>\n",
      "        <bibtexKey>Bissett_2004</bibtexKey>\n",
      "        <bibsonomy_id>https://www.bibsonomy.org/bibtex/29d91fb47115fee7aaba3c2be23f73080/jenvalentine</bibsonomy_id>\n",
      "    </publication>\n",
      "    <publication>\n",
      "        <id>3</id>\n",
      "        <title>Diversity writ large: Forging the link between diverse people and diverse organisational possibilities</title>\n",
      "        <authors>\n",
      "            <author>Ngaire Bissett</author>\n",
      "        </authors>\n",
      "        <abstract>Both postmodernism and corporate culturalism, each in distinctly different ways, have had the effect of suppressing links between diverse populations and identity politics in regards to the work environment. For example, the &quot;politics of difference&quot; debates of the 1980s began to take on ominous developments in the 1990s with the dispersal of multiple identity characteristics into a fragmented morass. In turn, personal diversity attributes have been collapsed into the agenda of corporate cultural cloning such that an individual's presentation of self is expected to conform to malestream managerial characterisations. However, there is evidence of contradictory impulses associated with these events, which provides space to envisage a contemporary form of community-orientated activism that avoids the dilemmas of overly disparate difference approaches and narrowly prescribed models of subjectivity. This article describes how such a committed social movement politic might be operationalised in organisational teaching contexts. The objective is to demonstrate the relevance of poststructural feminist ideas of communities of practice and notions of relationalism as a substantial charter for enriching organisational life. Ironically, in the current &quot;new economy&quot; environment, the discourse of management itself provides a means for such an endeavour to be legitimated. The article addresses the crucial factors required to achieve this substantive change process via expanded notions of difference, diversity and hybridity.</abstract>\n",
      "        <publisher>Emerald</publisher>\n",
      "        <year>2004</year>\n",
      "        <url>https://doi.org/10.1108%2F09534810410538360</url>\n",
      "        <bibtexKey>Bissett_2004</bibtexKey>\n",
      "        <bibsonomy_id>https://www.bibsonomy.org/bibtex/23fa4c51dc720609980ff070f987ba7fc/jennnippert</bibsonomy_id>\n",
      "    </publication>\n",
      "    <publication>\n",
      "        <id>4</id>\n",
      "        <title>Diversity writ large: Forging the link between diverse people and diverse organisational possibilities</title>\n",
      "        <authors>\n",
      "            <author>Ngaire Bissett</author>\n",
      "        </authors>\n",
      "        <abstract>Both postmodernism and corporate culturalism, each in distinctly different ways, have had the effect of suppressing links between diverse populations and identity politics in regards to the work environment. For example, the &quot;politics of difference&quot; debates of the 1980s began to take on ominous developments in the 1990s with the dispersal of multiple identity characteristics into a fragmented morass. In turn, personal diversity attributes have been collapsed into the agenda of corporate cultural cloning such that an individual's presentation of self is expected to conform to malestream managerial characterisations. However, there is evidence of contradictory impulses associated with these events, which provides space to envisage a contemporary form of community-orientated activism that avoids the dilemmas of overly disparate difference approaches and narrowly prescribed models of subjectivity. This article describes how such a committed social movement politic might be operationalised in organisational teaching contexts. The objective is to demonstrate the relevance of poststructural feminist ideas of communities of practice and notions of relationalism as a substantial charter for enriching organisational life. Ironically, in the current &quot;new economy&quot; environment, the discourse of management itself provides a means for such an endeavour to be legitimated. The article addresses the crucial factors required to achieve this substantive change process via expanded notions of difference, diversity and hybridity.</abstract>\n",
      "        <publisher>Emerald</publisher>\n",
      "        <year>2004</year>\n",
      "        <url>https://doi.org/10.1108%2F09534810410538360</url>\n",
      "        <bibtexKey>Bissett_2004</bibtexKey>\n",
      "        <bibsonomy_id>https://www.bibsonomy.org/bibtex/23fa4c51dc720609980ff070f987ba7fc/matttaylor815</bibsonomy_id>\n",
      "    </publication>\n",
      "    <publication>\n",
      "        <id>5</id>\n",
      "        <title>Diversity writ large</title>\n",
      "        <authors>\n",
      "            <author>Ngaire Bissett</author>\n",
      "        </authors>\n",
      "        <abstract>Both postmodernism and corporate culturalism, each in distinctly different ways, have had the effect of suppressing links between diverse populations and identity politics in regards to the work environment. For example, the &quot;politics of difference&quot; debates of the 1980s began to take on ominous developments in the 1990s with the dispersal of multiple identity characteristics into a fragmented morass. In turn, personal diversity attributes have been collapsed into the agenda of corporate cultural cloning such that an individual's presentation of self is expected to conform to malestream managerial characterisations. However, there is evidence of contradictory impulses associated with these events, which provides space to envisage a contemporary form of community-orientated activism that avoids the dilemmas of overly disparate difference approaches and narrowly prescribed models of subjectivity. This article describes how such a committed social movement politic might be operationalised in organisational teaching contexts. The objective is to demonstrate the relevance of poststructural feminist ideas of communities of practice and notions of relationalism as a substantial charter for enriching organisational life. Ironically, in the current &quot;new economy&quot; environment, the discourse of management itself provides a means for such an endeavour to be legitimated. The article addresses the crucial factors required to achieve this substantive change process via expanded notions of difference, diversity and hybridity.</abstract>\n",
      "        <publisher>Emerald</publisher>\n",
      "        <year>2004</year>\n",
      "        <url>https://doi.org/10.1108%2F09534810410538360</url>\n",
      "        <bibtexKey>Bissett_2004</bibtexKey>\n",
      "        <bibsonomy_id>https://www.bibsonomy.org/bibtex/29d91fb47115fee7aaba3c2be23f73080/kkwi223</bibsonomy_id>\n",
      "    </publication>\n",
      "    <publication>\n",
      "        <id>6</id>\n",
      "        <title>Diversity writ large: Forging the link between diverse people and diverse organisational possibilities</title>\n",
      "        <authors>\n",
      "            <author>Ngaire Bissett</author>\n",
      "        </authors>\n",
      "        <abstract>Both postmodernism and corporate culturalism, each in distinctly different ways, have had the effect of suppressing links between diverse populations and identity politics in regards to the work environment. For example, the &quot;politics of difference&quot; debates of the 1980s began to take on ominous developments in the 1990s with the dispersal of multiple identity characteristics into a fragmented morass. In turn, personal diversity attributes have been collapsed into the agenda of corporate cultural cloning such that an individual's presentation of self is expected to conform to malestream managerial characterisations. However, there is evidence of contradictory impulses associated with these events, which provides space to envisage a contemporary form of community-orientated activism that avoids the dilemmas of overly disparate difference approaches and narrowly prescribed models of subjectivity. This article describes how such a committed social movement politic might be operationalised in organisational teaching contexts. The objective is to demonstrate the relevance of poststructural feminist ideas of communities of practice and notions of relationalism as a substantial charter for enriching organisational life. Ironically, in the current &quot;new economy&quot; environment, the discourse of management itself provides a means for such an endeavour to be legitimated. The article addresses the crucial factors required to achieve this substantive change process via expanded notions of difference, diversity and hybridity.</abstract>\n",
      "        <publisher>Emerald</publisher>\n",
      "        <year>2004</year>\n",
      "        <url>https://doi.org/10.1108%2F09534810410538360</url>\n",
      "        <bibtexKey>Bissett_2004</bibtexKey>\n",
      "        <bibsonomy_id>https://www.bibsonomy.org/bibtex/23fa4c51dc720609980ff070f987ba7fc/stephenantczak</bibsonomy_id>\n",
      "    </publication>\n",
      "    <publication>\n",
      "        <id>7</id>\n",
      "        <title>Diversity writ large</title>\n",
      "        <authors>\n",
      "            <author>Ngaire Bissett</author>\n",
      "        </authors>\n",
      "        <abstract>Both postmodernism and corporate culturalism, each in distinctly different ways, have had the effect of suppressing links between diverse populations and identity politics in regards to the work environment. For example, the &quot;politics of difference&quot; debates of the 1980s began to take on ominous developments in the 1990s with the dispersal of multiple identity characteristics into a fragmented morass. In turn, personal diversity attributes have been collapsed into the agenda of corporate cultural cloning such that an individual's presentation of self is expected to conform to malestream managerial characterisations. However, there is evidence of contradictory impulses associated with these events, which provides space to envisage a contemporary form of community-orientated activism that avoids the dilemmas of overly disparate difference approaches and narrowly prescribed models of subjectivity. This article describes how such a committed social movement politic might be operationalised in organisational teaching contexts. The objective is to demonstrate the relevance of poststructural feminist ideas of communities of practice and notions of relationalism as a substantial charter for enriching organisational life. Ironically, in the current &quot;new economy&quot; environment, the discourse of management itself provides a means for such an endeavour to be legitimated. The article addresses the crucial factors required to achieve this substantive change process via expanded notions of difference, diversity and hybridity.</abstract>\n",
      "        <publisher>Emerald</publisher>\n",
      "        <year>2004</year>\n",
      "        <url>https://doi.org/10.1108%2F09534810410538360</url>\n",
      "        <bibtexKey>Bissett_2004</bibtexKey>\n",
      "        <bibsonomy_id>https://www.bibsonomy.org/bibtex/29d91fb47115fee7aaba3c2be23f73080/baharrison</bibsonomy_id>\n",
      "    </publication>\n",
      "    <publication>\n",
      "        <id>8</id>\n",
      "        <title>Diversity writ large: Forging the link between diverse people and diverse organisational possibilities</title>\n",
      "        <authors>\n",
      "            <author>Ngaire Bissett</author>\n",
      "        </authors>\n",
      "        <abstract>Both postmodernism and corporate culturalism, each in distinctly different ways, have had the effect of suppressing links between diverse populations and identity politics in regards to the work environment. For example, the &quot;politics of difference&quot; debates of the 1980s began to take on ominous developments in the 1990s with the dispersal of multiple identity characteristics into a fragmented morass. In turn, personal diversity attributes have been collapsed into the agenda of corporate cultural cloning such that an individual's presentation of self is expected to conform to malestream managerial characterisations. However, there is evidence of contradictory impulses associated with these events, which provides space to envisage a contemporary form of community-orientated activism that avoids the dilemmas of overly disparate difference approaches and narrowly prescribed models of subjectivity. This article describes how such a committed social movement politic might be operationalised in organisational teaching contexts. The objective is to demonstrate the relevance of poststructural feminist ideas of communities of practice and notions of relationalism as a substantial charter for enriching organisational life. Ironically, in the current &quot;new economy&quot; environment, the discourse of management itself provides a means for such an endeavour to be legitimated. The article addresses the crucial factors required to achieve this substantive change process via expanded notions of difference, diversity and hybridity.</abstract>\n",
      "        <publisher>Emerald</publisher>\n",
      "        <year>2004</year>\n",
      "        <url>https://doi.org/10.1108%2F09534810410538360</url>\n",
      "        <bibtexKey>Bissett_2004</bibtexKey>\n",
      "        <bibsonomy_id>https://www.bibsonomy.org/bibtex/23fa4c51dc720609980ff070f987ba7fc/akvandegrift</bibsonomy_id>\n",
      "    </publication>\n",
      "    <publication>\n",
      "        <id>9</id>\n",
      "        <title>Diversity writ large: Forging the link between diverse people and diverse organisational possibilities</title>\n",
      "        <authors>\n",
      "            <author>Ngaire Bissett</author>\n",
      "        </authors>\n",
      "        <abstract>Both postmodernism and corporate culturalism, each in distinctly different ways, have had the effect of suppressing links between diverse populations and identity politics in regards to the work environment. For example, the &quot;politics of difference&quot; debates of the 1980s began to take on ominous developments in the 1990s with the dispersal of multiple identity characteristics into a fragmented morass. In turn, personal diversity attributes have been collapsed into the agenda of corporate cultural cloning such that an individual's presentation of self is expected to conform to malestream managerial characterisations. However, there is evidence of contradictory impulses associated with these events, which provides space to envisage a contemporary form of community-orientated activism that avoids the dilemmas of overly disparate difference approaches and narrowly prescribed models of subjectivity. This article describes how such a committed social movement politic might be operationalised in organisational teaching contexts. The objective is to demonstrate the relevance of poststructural feminist ideas of communities of practice and notions of relationalism as a substantial charter for enriching organisational life. Ironically, in the current &quot;new economy&quot; environment, the discourse of management itself provides a means for such an endeavour to be legitimated. The article addresses the crucial factors required to achieve this substantive change process via expanded notions of difference, diversity and hybridity.</abstract>\n",
      "        <publisher>Emerald</publisher>\n",
      "        <year>2004</year>\n",
      "        <url>https://doi.org/10.1108%2F09534810410538360</url>\n",
      "        <bibtexKey>Bissett_2004</bibtexKey>\n",
      "        <bibsonomy_id>https://www.bibsonomy.org/bibtex/23fa4c51dc720609980ff070f987ba7fc/ljohnson24</bibsonomy_id>\n",
      "    </publication>\n",
      "    <publication>\n",
      "        <id>10</id>\n",
      "        <title>Diversity writ large</title>\n",
      "        <authors>\n",
      "            <author>Ngaire Bissett</author>\n",
      "        </authors>\n",
      "        <abstract>Both postmodernism and corporate culturalism, each in distinctly different ways, have had the effect of suppressing links between diverse populations and identity politics in regards to the work environment. For example, the &quot;politics of difference&quot; debates of the 1980s began to take on ominous developments in the 1990s with the dispersal of multiple identity characteristics into a fragmented morass. In turn, personal diversity attributes have been collapsed into the agenda of corporate cultural cloning such that an individual's presentation of self is expected to conform to malestream managerial characterisations. However, there is evidence of contradictory impulses associated with these events, which provides space to envisage a contemporary form of community-orientated activism that avoids the dilemmas of overly disparate difference approaches and narrowly prescribed models of subjectivity. This article describes how such a committed social movement politic might be operationalised in organisational teaching contexts. The objective is to demonstrate the relevance of poststructural feminist ideas of communities of practice and notions of relationalism as a substantial charter for enriching organisational life. Ironically, in the current &quot;new economy&quot; environment, the discourse of management itself provides a means for such an endeavour to be legitimated. The article addresses the crucial factors required to achieve this substantive change process via expanded notions of difference, diversity and hybridity.</abstract>\n",
      "        <publisher>Emerald</publisher>\n",
      "        <year>2004</year>\n",
      "        <url>https://doi.org/10.1108%2F09534810410538360</url>\n",
      "        <bibtexKey>Bissett_2004</bibtexKey>\n",
      "        <bibsonomy_id>https://www.bibsonomy.org/bibtex/29d91fb47115fee7aaba3c2be23f73080/ajwi2337</bibsonomy_id>\n",
      "    </publication>\n",
      "    <publication>\n",
      "        <id>11</id>\n",
      "        <title>Diversity writ large</title>\n",
      "        <authors>\n",
      "            <author>Ngaire Bissett</author>\n",
      "        </authors>\n",
      "        <abstract>Both postmodernism and corporate culturalism, each in distinctly different ways, have had the effect of suppressing links between diverse populations and identity politics in regards to the work environment. For example, the &quot;politics of difference&quot; debates of the 1980s began to take on ominous developments in the 1990s with the dispersal of multiple identity characteristics into a fragmented morass. In turn, personal diversity attributes have been collapsed into the agenda of corporate cultural cloning such that an individual's presentation of self is expected to conform to malestream managerial characterisations. However, there is evidence of contradictory impulses associated with these events, which provides space to envisage a contemporary form of community-orientated activism that avoids the dilemmas of overly disparate difference approaches and narrowly prescribed models of subjectivity. This article describes how such a committed social movement politic might be operationalised in organisational teaching contexts. The objective is to demonstrate the relevance of poststructural feminist ideas of communities of practice and notions of relationalism as a substantial charter for enriching organisational life. Ironically, in the current &quot;new economy&quot; environment, the discourse of management itself provides a means for such an endeavour to be legitimated. The article addresses the crucial factors required to achieve this substantive change process via expanded notions of difference, diversity and hybridity.</abstract>\n",
      "        <publisher>Emerald</publisher>\n",
      "        <year>2004</year>\n",
      "        <url>https://doi.org/10.1108%2F09534810410538360</url>\n",
      "        <bibtexKey>Bissett_2004</bibtexKey>\n",
      "        <bibsonomy_id>https://www.bibsonomy.org/bibtex/29d91fb47115fee7aaba3c2be23f73080/wsilberman</bibsonomy_id>\n",
      "    </publication>\n",
      "    <publication>\n",
      "        <id>12</id>\n",
      "        <title>La città ineguale. Pratiche culturali e organizzazione della marginalità in Africa e America latina</title>\n",
      "        <authors>\n",
      "            <author> a cura di Cattedra e Memoli</author>\n",
      "        </authors>\n",
      "        <editors>\n",
      "            <editor> Mimesis</editor>\n",
      "        </editors>\n",
      "        <publisher>Mimesis</publisher>\n",
      "        <year>1999</year>\n",
      "        <url/>\n",
      "        <bibtexKey>acuradicattedraememoli1999ineguale</bibtexKey>\n",
      "        <bibsonomy_id>https://www.bibsonomy.org/bibtex/2fb7edce6fd7673d33f4e073e3bc27058/flowerby1</bibsonomy_id>\n",
      "    </publication>\n",
      "</publications>\n",
      "\n"
     ]
    }
   ],
   "source": [
    "with open(xml_filename, \"r\") as file:   \n",
    "    print(file.read())"
   ]
  },
  {
   "cell_type": "code",
   "execution_count": 18,
   "id": "1d75b9d7",
   "metadata": {},
   "outputs": [],
   "source": [
    "solr_filename = \"bibsonomy.json\""
   ]
  },
  {
   "cell_type": "code",
   "execution_count": 19,
   "id": "ecf51f36",
   "metadata": {},
   "outputs": [],
   "source": [
    "data_as_solr = []"
   ]
  },
  {
   "cell_type": "code",
   "execution_count": 20,
   "id": "9b578b7d",
   "metadata": {},
   "outputs": [],
   "source": [
    "publications = [item for item in items if item['type'] == 'Publication']"
   ]
  },
  {
   "cell_type": "code",
   "execution_count": 21,
   "id": "dfd2f46c",
   "metadata": {},
   "outputs": [],
   "source": [
    "for i, item in enumerate(publications):\n",
    "    entry = {\n",
    "        \"id\": i+1,\n",
    "    }\n",
    "    "
   ]
  },
  {
   "cell_type": "code",
   "execution_count": 22,
   "id": "86aaf728",
   "metadata": {},
   "outputs": [],
   "source": [
    "  if \"label\" in item:\n",
    "        entry.update({\"title\": item[\"label\"]})"
   ]
  },
  {
   "cell_type": "code",
   "execution_count": 25,
   "id": "511169e3",
   "metadata": {},
   "outputs": [],
   "source": [
    "authors = []"
   ]
  },
  {
   "cell_type": "code",
   "execution_count": 26,
   "id": "6d92e264",
   "metadata": {},
   "outputs": [],
   "source": [
    "   if \"author\" in item:\n",
    "        for j, author in enumerate(item[\"author\"]):\n",
    "            authors.append(escape(author))\n",
    "    "
   ]
  },
  {
   "cell_type": "code",
   "execution_count": 27,
   "id": "50d2c360",
   "metadata": {},
   "outputs": [],
   "source": [
    "entry.update({\"authors\": authors})"
   ]
  },
  {
   "cell_type": "code",
   "execution_count": 28,
   "id": "bf69faec",
   "metadata": {},
   "outputs": [],
   "source": [
    "editors = []\n"
   ]
  },
  {
   "cell_type": "code",
   "execution_count": 29,
   "id": "b6679da6",
   "metadata": {},
   "outputs": [],
   "source": [
    "    if \"editor\" in item:\n",
    "        for k, editor in enumerate(item[\"editor\"]):\n",
    "            ### author\n",
    "            editors.append(escape(editor))\n",
    "    entry.update({\"editors\": editors})"
   ]
  },
  {
   "cell_type": "code",
   "execution_count": 30,
   "id": "a4508e24",
   "metadata": {},
   "outputs": [],
   "source": [
    "if \"abstract\" in item:\n",
    "        entry.update({\"abstract\": item[\"abstract\"]})"
   ]
  },
  {
   "cell_type": "code",
   "execution_count": 31,
   "id": "61f6bf75",
   "metadata": {},
   "outputs": [],
   "source": [
    "if \"publisher\" in item:\n",
    "        entry.update({\"publisher\": item[\"publisher\"]})"
   ]
  },
  {
   "cell_type": "code",
   "execution_count": 32,
   "id": "a4cd6e53",
   "metadata": {},
   "outputs": [],
   "source": [
    "if \"year\" in item:\n",
    "        entry.update({\"year\": item[\"year\"]})"
   ]
  },
  {
   "cell_type": "code",
   "execution_count": 33,
   "id": "96701f90",
   "metadata": {},
   "outputs": [],
   "source": [
    " if \"isbn\" in item:\n",
    "        entry.update({\"isbn\": item[\"isbn\"]})"
   ]
  },
  {
   "cell_type": "code",
   "execution_count": 34,
   "id": "572cee10",
   "metadata": {},
   "outputs": [],
   "source": [
    "if \"url\" in item:\n",
    "        entry.update({\"url\": item[\"url\"]})"
   ]
  },
  {
   "cell_type": "code",
   "execution_count": 35,
   "id": "ba49b0cb",
   "metadata": {},
   "outputs": [],
   "source": [
    " if \"ee\" in item:\n",
    "        entry.update({\"ee\": item[\"ee\"]})"
   ]
  },
  {
   "cell_type": "code",
   "execution_count": 36,
   "id": "bf287909",
   "metadata": {},
   "outputs": [],
   "source": [
    "if \"bibtexKey\" in item:\n",
    "        entry.update({\"bibtexKey\": item[\"bibtexKey\"]})"
   ]
  },
  {
   "cell_type": "code",
   "execution_count": 39,
   "id": "34997ab5",
   "metadata": {},
   "outputs": [],
   "source": [
    " if \"id\" in item:\n",
    "        entry.update({\"bibsonomy_id\": item[\"id\"]})\n",
    "    \n",
    "   "
   ]
  },
  {
   "cell_type": "code",
   "execution_count": 40,
   "id": "f5b5097b",
   "metadata": {},
   "outputs": [],
   "source": [
    " data_as_solr.append(entry)"
   ]
  },
  {
   "cell_type": "code",
   "execution_count": 41,
   "id": "8c6de97e",
   "metadata": {},
   "outputs": [],
   "source": [
    "data_as_solr = json.dumps(data_as_solr, indent=2)"
   ]
  },
  {
   "cell_type": "code",
   "execution_count": 42,
   "id": "fdaaa733",
   "metadata": {},
   "outputs": [],
   "source": [
    "with open(solr_filename, \"w\") as file:\n",
    "    file.write(data_as_solr)\n"
   ]
  },
  {
   "cell_type": "code",
   "execution_count": 43,
   "id": "d0d37a8c",
   "metadata": {},
   "outputs": [
    {
     "name": "stdout",
     "output_type": "stream",
     "text": [
      "[\n",
      "  {\n",
      "    \"id\": 12,\n",
      "    \"title\": \"La citt\\u00e0 ineguale. Pratiche culturali e organizzazione della marginalit\\u00e0 in Africa e America latina\",\n",
      "    \"authors\": [\n",
      "      \" a cura di Cattedra e Memoli\"\n",
      "    ],\n",
      "    \"editors\": [\n",
      "      \" Mimesis\"\n",
      "    ],\n",
      "    \"publisher\": \"Mimesis\",\n",
      "    \"year\": \"1999\",\n",
      "    \"url\": \"\",\n",
      "    \"bibtexKey\": \"acuradicattedraememoli1999ineguale\",\n",
      "    \"bibsonomy_id\": \"https://www.bibsonomy.org/bibtex/2fb7edce6fd7673d33f4e073e3bc27058/flowerby1\"\n",
      "  }\n",
      "]\n"
     ]
    }
   ],
   "source": [
    "with open(solr_filename, \"r\") as file:   \n",
    "    print(file.read())"
   ]
  },
  {
   "cell_type": "code",
   "execution_count": null,
   "id": "0acf7f33",
   "metadata": {},
   "outputs": [],
   "source": []
  }
 ],
 "metadata": {
  "kernelspec": {
   "display_name": "Python 3 (ipykernel)",
   "language": "python",
   "name": "python3"
  },
  "language_info": {
   "codemirror_mode": {
    "name": "ipython",
    "version": 3
   },
   "file_extension": ".py",
   "mimetype": "text/x-python",
   "name": "python",
   "nbconvert_exporter": "python",
   "pygments_lexer": "ipython3",
   "version": "3.9.7"
  }
 },
 "nbformat": 4,
 "nbformat_minor": 5
}
