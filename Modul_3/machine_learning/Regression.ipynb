{
 "cells": [
  {
   "cell_type": "code",
   "execution_count": 1,
   "id": "151d6d92",
   "metadata": {},
   "outputs": [],
   "source": [
    "from sklearn.datasets import make_regression\n",
    "X_reg, y_reg = make_regression(n_samples=500, n_features=1, noise=20, random_state=1)"
   ]
  },
  {
   "cell_type": "code",
   "execution_count": 2,
   "id": "80bdebbc",
   "metadata": {},
   "outputs": [
    {
     "data": {
      "text/plain": [
       "array([[-1.91835552e-01],\n",
       "       [-5.37223024e-01],\n",
       "       [ 5.64382855e-01],\n",
       "       [ 1.93752881e+00],\n",
       "       [ 1.20205486e+00],\n",
       "       [-2.43483776e+00],\n",
       "       [ 2.10025514e+00],\n",
       "       [ 1.00088142e+00],\n",
       "       [-7.67309826e-01],\n",
       "       [-7.77858827e-01],\n",
       "       [-1.09991490e-01],\n",
       "       [-4.48738033e-01],\n",
       "       [ 6.74570707e-01],\n",
       "       [ 1.74481176e+00],\n",
       "       [-2.26314243e-01],\n",
       "       [ 1.62765075e+00],\n",
       "       [ 3.69492716e-01],\n",
       "       [ 8.25029824e-01],\n",
       "       [ 8.65407629e-01],\n",
       "       [ 3.67231814e-01],\n",
       "       [ 7.78211279e-02],\n",
       "       [ 1.04444209e+00],\n",
       "       [ 8.52704062e-01],\n",
       "       [ 5.82815214e-01],\n",
       "       [-6.70662286e-01],\n",
       "       [ 5.92472801e-01],\n",
       "       [ 4.41364444e-01],\n",
       "       [-2.46169559e-02],\n",
       "       [ 1.38877940e+00],\n",
       "       [ 4.77610182e-01],\n",
       "       [ 1.61694960e+00],\n",
       "       [-7.00398505e-01],\n",
       "       [ 1.62284909e+00],\n",
       "       [ 1.04008915e+00],\n",
       "       [ 3.86539145e-01],\n",
       "       [ 2.19069973e+00],\n",
       "       [ 2.11124755e-01],\n",
       "       [ 8.38983414e-01],\n",
       "       [-3.52249846e-01],\n",
       "       [-1.02188594e+00],\n",
       "       [ 2.18697965e+00],\n",
       "       [-1.61577235e+00],\n",
       "       [ 3.15159392e-01],\n",
       "       [ 1.27852808e+00],\n",
       "       [ 6.18539131e-01],\n",
       "       [ 7.63804802e-02],\n",
       "       [-6.65754518e-01],\n",
       "       [-6.46916688e-01],\n",
       "       [ 6.61020288e-01],\n",
       "       [-4.42229280e-01],\n",
       "       [ 1.03882460e+00],\n",
       "       [ 6.02319280e-01],\n",
       "       [ 1.65275673e-02],\n",
       "       [-1.18231813e+00],\n",
       "       [-2.81736269e-01],\n",
       "       [ 4.35968568e-02],\n",
       "       [ 1.33145711e+00],\n",
       "       [-1.35977326e-01],\n",
       "       [ 1.15528789e+00],\n",
       "       [-7.49969617e-01],\n",
       "       [ 6.23362177e-01],\n",
       "       [ 3.15634947e-01],\n",
       "       [-3.96753527e-01],\n",
       "       [ 7.50411640e-01],\n",
       "       [ 3.23527354e-01],\n",
       "       [-9.35769434e-01],\n",
       "       [ 1.60037069e-01],\n",
       "       [-1.74180344e-01],\n",
       "       [-1.21974440e+00],\n",
       "       [ 4.10051647e-01],\n",
       "       [-7.33271604e-01],\n",
       "       [-8.30168864e-01],\n",
       "       [ 2.32494559e-01],\n",
       "       [ 8.40861558e-01],\n",
       "       [-3.26499498e-01],\n",
       "       [ 6.21082701e-01],\n",
       "       [-4.34956683e-01],\n",
       "       [-1.62743834e+00],\n",
       "       [ 1.14690038e+00],\n",
       "       [-9.01634490e-01],\n",
       "       [ 7.21711292e-01],\n",
       "       [-2.66218506e-01],\n",
       "       [-3.22417204e-01],\n",
       "       [-1.10447026e-01],\n",
       "       [ 1.19783084e+00],\n",
       "       [-7.55717130e-02],\n",
       "       [ 3.24274243e-01],\n",
       "       [ 7.73400683e-02],\n",
       "       [ 3.00170320e-01],\n",
       "       [-2.30839743e-01],\n",
       "       [-1.23685338e+00],\n",
       "       [-1.26645989e-02],\n",
       "       [-8.26097432e-01],\n",
       "       [ 8.84908814e-01],\n",
       "       [-1.09491185e+00],\n",
       "       [ 1.86647138e+00],\n",
       "       [-8.67768678e-01],\n",
       "       [-9.53700602e-01],\n",
       "       [-8.51455657e-01],\n",
       "       [ 1.09899633e+00],\n",
       "       [ 1.98299720e-01],\n",
       "       [-1.16017010e+00],\n",
       "       [-8.80577600e-01],\n",
       "       [ 1.11105670e+00],\n",
       "       [-6.94920901e-01],\n",
       "       [-4.79184915e-01],\n",
       "       [ 7.58805660e-01],\n",
       "       [ 5.20576337e-01],\n",
       "       [-2.02220122e+00],\n",
       "       [ 1.90915485e-01],\n",
       "       [ 9.01486892e-01],\n",
       "       [-5.32234021e-01],\n",
       "       [ 1.33526763e-02],\n",
       "       [-8.87628964e-01],\n",
       "       [-2.79097722e-01],\n",
       "       [-1.09989127e+00],\n",
       "       [-2.96641152e-01],\n",
       "       [ 5.08077548e-02],\n",
       "       [ 4.50155513e-01],\n",
       "       [-6.38730407e-01],\n",
       "       [ 8.01861032e-01],\n",
       "       [ 6.30195671e-01],\n",
       "       [-1.30653407e+00],\n",
       "       [ 1.37701210e-01],\n",
       "       [-6.03920628e-01],\n",
       "       [-3.74804687e-01],\n",
       "       [ 5.03184813e-01],\n",
       "       [ 1.25286816e+00],\n",
       "       [-7.25597119e-01],\n",
       "       [ 1.77187720e-01],\n",
       "       [ 8.75838928e-01],\n",
       "       [ 9.31102081e-01],\n",
       "       [ 6.18380262e-01],\n",
       "       [ 2.13533901e-01],\n",
       "       [-6.61344243e-01],\n",
       "       [-3.10984978e-01],\n",
       "       [-6.18036848e-01],\n",
       "       [-4.47128565e-01],\n",
       "       [ 2.05462410e+00],\n",
       "       [-7.54397941e-01],\n",
       "       [ 3.50545979e-01],\n",
       "       [ 1.45142926e+00],\n",
       "       [ 7.27813500e-01],\n",
       "       [ 2.18628366e-02],\n",
       "       [ 5.02494339e-01],\n",
       "       [-2.30153870e+00],\n",
       "       [ 1.12948391e+00],\n",
       "       [-2.09424782e+00],\n",
       "       [ 6.08514698e-01],\n",
       "       [ 1.01012718e+00],\n",
       "       [ 4.29526140e-01],\n",
       "       [ 7.94528240e-01],\n",
       "       [ 5.50537496e-01],\n",
       "       [ 1.14472371e+00],\n",
       "       [-4.11639163e-01],\n",
       "       [ 5.93578523e-01],\n",
       "       [-5.62305431e-01],\n",
       "       [-1.36444744e-01],\n",
       "       [ 8.64644065e-02],\n",
       "       [-2.41350300e+00],\n",
       "       [-4.22856961e-01],\n",
       "       [-3.10116774e-01],\n",
       "       [-4.43171931e-01],\n",
       "       [ 4.65672984e-02],\n",
       "       [-1.23005814e+00],\n",
       "       [ 4.22137467e-02],\n",
       "       [-1.06793987e-01],\n",
       "       [ 2.06578332e+00],\n",
       "       [-3.19801599e-01],\n",
       "       [ 1.71647264e-02],\n",
       "       [-6.91660752e-01],\n",
       "       [ 6.07501958e-02],\n",
       "       [ 7.92806866e-01],\n",
       "       [-5.11884476e-02],\n",
       "       [-1.34267579e+00],\n",
       "       [ 1.19008646e-01],\n",
       "       [-2.48634778e-01],\n",
       "       [ 1.20845633e+00],\n",
       "       [-1.89636092e+00],\n",
       "       [ 1.61336137e+00],\n",
       "       [ 1.45810824e+00],\n",
       "       [-1.39662042e+00],\n",
       "       [ 1.70459417e+00],\n",
       "       [ 1.23616403e+00],\n",
       "       [-6.87172700e-01],\n",
       "       [-1.11911540e+00],\n",
       "       [ 1.56263850e-01],\n",
       "       [-8.77281519e-01],\n",
       "       [-1.11487105e+00],\n",
       "       [ 8.70969803e-01],\n",
       "       [-1.75458969e-01],\n",
       "       [ 2.05635552e+00],\n",
       "       [ 1.81053491e+00],\n",
       "       [-9.55425262e-01],\n",
       "       [ 8.85141164e-01],\n",
       "       [ 1.96710175e+00],\n",
       "       [-1.44087602e+00],\n",
       "       [-1.94332341e+00],\n",
       "       [-1.94258918e+00],\n",
       "       [-3.84054355e-01],\n",
       "       [-2.78253447e+00],\n",
       "       [-2.23708651e+00],\n",
       "       [ 4.38166347e-01],\n",
       "       [-2.67888080e-01],\n",
       "       [-5.08457134e-01],\n",
       "       [ 8.24005618e-01],\n",
       "       [-1.85798186e+00],\n",
       "       [-4.75372875e-01],\n",
       "       [-2.03720123e+00],\n",
       "       [-5.68244809e-02],\n",
       "       [-1.98837863e-01],\n",
       "       [-1.76068856e+00],\n",
       "       [ 9.39168744e-01],\n",
       "       [ 1.12232832e+00],\n",
       "       [ 1.54335911e+00],\n",
       "       [-7.85533997e-01],\n",
       "       [ 1.55880554e+00],\n",
       "       [-1.04458938e+00],\n",
       "       [ 5.85910431e-01],\n",
       "       [ 2.62467445e-01],\n",
       "       [-1.05344713e-01],\n",
       "       [-8.77858418e-01],\n",
       "       [ 6.74711526e-01],\n",
       "       [-1.72428208e-01],\n",
       "       [-6.06524918e-02],\n",
       "       [ 8.09271010e-02],\n",
       "       [ 2.11060505e+00],\n",
       "       [-1.68405999e+00],\n",
       "       [ 1.29101580e-01],\n",
       "       [ 6.59049796e-01],\n",
       "       [-1.01745873e-01],\n",
       "       [-7.75161619e-01],\n",
       "       [-1.89148284e-03],\n",
       "       [ 1.13162939e+00],\n",
       "       [ 3.03085711e+00],\n",
       "       [ 2.48799161e-01],\n",
       "       [ 1.39984394e+00],\n",
       "       [ 2.80665077e-01],\n",
       "       [-7.61206901e-01],\n",
       "       [ 4.03491642e-01],\n",
       "       [ 1.40754000e+00],\n",
       "       [ 9.54250872e-02],\n",
       "       [ 2.18557541e+00],\n",
       "       [ 1.34048197e-01],\n",
       "       [ 4.66643267e-01],\n",
       "       [-1.74703160e-01],\n",
       "       [ 8.24584625e-01],\n",
       "       [-1.17598267e+00],\n",
       "       [ 4.61164100e-01],\n",
       "       [ 9.21450069e-01],\n",
       "       [ 8.08844360e-01],\n",
       "       [-5.17094458e-01],\n",
       "       [ 1.78975468e+00],\n",
       "       [ 6.82551407e-01],\n",
       "       [-2.14246673e+00],\n",
       "       [ 1.13376944e+00],\n",
       "       [ 6.17203110e-01],\n",
       "       [ 5.15413802e-01],\n",
       "       [-1.15985185e-01],\n",
       "       [-3.06204013e-01],\n",
       "       [ 1.16033857e+00],\n",
       "       [ 6.74396105e-01],\n",
       "       [ 1.95487808e+00],\n",
       "       [-8.59515941e-01],\n",
       "       [-7.22391905e-01],\n",
       "       [-6.11756414e-01],\n",
       "       [ 8.63345318e-01],\n",
       "       [ 3.38011697e-01],\n",
       "       [-2.22328143e-01],\n",
       "       [-9.18440038e-01],\n",
       "       [ 1.35010682e+00],\n",
       "       [ 4.92336556e-01],\n",
       "       [ 1.79215821e+00],\n",
       "       [ 5.02740882e-01],\n",
       "       [-1.80920302e-01],\n",
       "       [-4.97025792e-02],\n",
       "       [ 3.77563786e-01],\n",
       "       [-6.20000844e-01],\n",
       "       [ 5.34095368e-02],\n",
       "       [-2.49370375e-01],\n",
       "       [-4.00878192e-01],\n",
       "       [ 1.23289919e+00],\n",
       "       [-3.75284950e-01],\n",
       "       [ 1.83471763e+00],\n",
       "       [-5.28171752e-01],\n",
       "       [-2.54179868e-01],\n",
       "       [-1.77756638e+00],\n",
       "       [ 1.19891788e+00],\n",
       "       [-4.29142278e-01],\n",
       "       [-6.71246131e-01],\n",
       "       [ 5.12929820e-01],\n",
       "       [-1.90221025e-01],\n",
       "       [-5.45774168e-01],\n",
       "       [-4.98213564e-01],\n",
       "       [ 9.86335188e-01],\n",
       "       [ 1.11570180e+00],\n",
       "       [-2.28765829e-01],\n",
       "       [ 9.20615118e-01],\n",
       "       [ 1.76024923e+00],\n",
       "       [ 1.86561391e-01],\n",
       "       [ 2.13782807e+00],\n",
       "       [ 3.13547720e-01],\n",
       "       [ 7.84770651e-01],\n",
       "       [-2.36436952e-01],\n",
       "       [-7.81911683e-01],\n",
       "       [-7.01344426e-01],\n",
       "       [ 1.12341216e+00],\n",
       "       [ 2.40737092e-01],\n",
       "       [ 8.36004719e-01],\n",
       "       [-4.68673816e-01],\n",
       "       [-1.20464572e-01],\n",
       "       [-5.33020326e-01],\n",
       "       [-6.72448039e-01],\n",
       "       [-6.23530730e-01],\n",
       "       [-2.98092835e-01],\n",
       "       [-7.97269785e-01],\n",
       "       [ 3.53600971e-02],\n",
       "       [-3.84832249e-01],\n",
       "       [ 2.30094735e-01],\n",
       "       [-2.00758069e-01],\n",
       "       [-1.18771172e-01],\n",
       "       [ 2.76499305e-01],\n",
       "       [ 1.69382433e-01],\n",
       "       [-2.08894233e-01],\n",
       "       [-1.84176326e-01],\n",
       "       [-6.94693595e-01],\n",
       "       [-8.45205641e-01],\n",
       "       [-3.43853676e-01],\n",
       "       [-3.43900709e-01],\n",
       "       [-1.86569772e-01],\n",
       "       [-3.49342722e-01],\n",
       "       [-9.97026828e-01],\n",
       "       [ 1.04499441e+00],\n",
       "       [-4.13029310e-01],\n",
       "       [ 6.21803504e-01],\n",
       "       [-1.14251820e+00],\n",
       "       [-6.17362064e-01],\n",
       "       [ 5.84646610e-01],\n",
       "       [-1.95210529e+00],\n",
       "       [ 4.88518147e-01],\n",
       "       [ 8.46160648e-01],\n",
       "       [-6.93286967e-02],\n",
       "       [-4.79157099e-01],\n",
       "       [-1.00155233e-01],\n",
       "       [-1.68198840e-01],\n",
       "       [-1.10771250e+00],\n",
       "       [ 9.01590721e-01],\n",
       "       [-1.10061918e+00],\n",
       "       [ 4.36689932e-02],\n",
       "       [ 9.00855949e-01],\n",
       "       [ 4.23494354e-01],\n",
       "       [ 1.22450770e+00],\n",
       "       [-3.86955093e-02],\n",
       "       [-1.52568032e+00],\n",
       "       [-7.05840507e-01],\n",
       "       [ 1.11813340e+00],\n",
       "       [-6.83727859e-01],\n",
       "       [-1.12201873e+00],\n",
       "       [-4.47895185e-01],\n",
       "       [ 4.51122939e-01],\n",
       "       [-7.47158294e-01],\n",
       "       [-2.87307863e-01],\n",
       "       [ 1.85156417e-01],\n",
       "       [-1.02887218e-01],\n",
       "       [-1.07296862e+00],\n",
       "       [ 2.42669441e-01],\n",
       "       [-9.33914656e-01],\n",
       "       [ 1.95607890e+00],\n",
       "       [ 1.65980218e+00],\n",
       "       [ 7.77419205e-01],\n",
       "       [ 4.51615951e-01],\n",
       "       [-1.95057341e-01],\n",
       "       [-1.44411381e+00],\n",
       "       [-1.11647002e+00],\n",
       "       [ 8.54894544e-03],\n",
       "       [ 4.17302005e-01],\n",
       "       [ 1.19268607e+00],\n",
       "       [ 1.06222724e-01],\n",
       "       [-8.67787223e-01],\n",
       "       [-8.90555584e-01],\n",
       "       [ 2.05117344e+00],\n",
       "       [ 5.30355467e-01],\n",
       "       [-1.86578994e-01],\n",
       "       [ 3.19039096e-01],\n",
       "       [-6.36995647e-01],\n",
       "       [ 1.29322588e+00],\n",
       "       [ 1.20158952e-01],\n",
       "       [-1.75592564e+00],\n",
       "       [-1.19054188e-01],\n",
       "       [-2.11416392e+00],\n",
       "       [ 5.85662000e-01],\n",
       "       [ 1.12141771e+00],\n",
       "       [ 5.62761097e-01],\n",
       "       [ 1.69245460e+00],\n",
       "       [-1.42655542e+00],\n",
       "       [-6.80678141e-01],\n",
       "       [-1.53879325e+00],\n",
       "       [ 4.95211324e-01],\n",
       "       [-1.47115693e+00],\n",
       "       [-1.30572692e+00],\n",
       "       [-1.33195167e+00],\n",
       "       [ 1.21821271e-01],\n",
       "       [ 4.08900538e-01],\n",
       "       [ 8.05393424e-01],\n",
       "       [ 1.11438298e+00],\n",
       "       [ 1.76533510e+00],\n",
       "       [ 8.76168921e-01],\n",
       "       [ 1.10417433e+00],\n",
       "       [ 1.03368687e+00],\n",
       "       [-2.50644065e+00],\n",
       "       [ 5.15073614e-01],\n",
       "       [-5.93843067e-01],\n",
       "       [-2.37941936e-01],\n",
       "       [ 8.10951673e-01],\n",
       "       [ 2.52832571e+00],\n",
       "       [ 3.52494364e-01],\n",
       "       [-5.86523939e-01],\n",
       "       [-3.44987210e-01],\n",
       "       [ 4.20282204e-01],\n",
       "       [ 7.40556451e-01],\n",
       "       [ 7.95026094e-01],\n",
       "       [ 3.10272288e-01],\n",
       "       [-1.37311732e+00],\n",
       "       [ 1.09402696e-01],\n",
       "       [-1.77183179e-02],\n",
       "       [-2.06014071e+00],\n",
       "       [-2.03394449e-01],\n",
       "       [-1.87316098e+00],\n",
       "       [ 8.27974643e-01],\n",
       "       [-5.57494722e-01],\n",
       "       [-8.22467189e-01],\n",
       "       [-1.31228341e+00],\n",
       "       [ 2.85587325e-01],\n",
       "       [ 6.80069840e-01],\n",
       "       [-1.98998184e-01],\n",
       "       [-7.31127037e-02],\n",
       "       [-4.14846901e-01],\n",
       "       [-3.74438319e-01],\n",
       "       [-5.04465863e-01],\n",
       "       [-2.97361883e-01],\n",
       "       [ 1.46089238e+00],\n",
       "       [ 6.98032034e-01],\n",
       "       [ 2.82675712e-01],\n",
       "       [ 6.54580153e-01],\n",
       "       [ 3.66332015e-01],\n",
       "       [ 8.68886157e-01],\n",
       "       [ 1.62434536e+00],\n",
       "       [-2.79308500e+00],\n",
       "       [-3.31283170e-01],\n",
       "       [-5.99804531e-01],\n",
       "       [-1.40232915e+00],\n",
       "       [ 5.28879746e-01],\n",
       "       [-1.65072127e+00],\n",
       "       [-1.27255876e+00],\n",
       "       [ 3.05267040e-01],\n",
       "       [-4.18937898e-01],\n",
       "       [-3.53679249e-02],\n",
       "       [ 4.51284016e-01],\n",
       "       [-8.28627979e-01],\n",
       "       [ 3.50167159e-01],\n",
       "       [ 1.76795995e+00],\n",
       "       [-8.30171895e-01],\n",
       "       [ 7.14789597e-01],\n",
       "       [-1.23312074e+00],\n",
       "       [-4.37508983e-01],\n",
       "       [ 5.29465324e-01],\n",
       "       [ 2.34415698e-01],\n",
       "       [-1.00016919e+00],\n",
       "       [ 7.42044161e-01],\n",
       "       [ 4.51946037e-01],\n",
       "       [-8.61316361e-01],\n",
       "       [ 2.84748111e-01],\n",
       "       [-1.39649634e+00],\n",
       "       [ 3.26145467e-02],\n",
       "       [ 5.86623191e-01],\n",
       "       [ 2.01830179e-01],\n",
       "       [ 6.17985534e-01],\n",
       "       [-1.67419581e+00],\n",
       "       [ 8.53281222e-01],\n",
       "       [-1.14434139e+00],\n",
       "       [-1.11731035e+00],\n",
       "       [ 1.11584111e+00],\n",
       "       [ 9.56121704e-01],\n",
       "       [ 1.46210794e+00],\n",
       "       [ 9.20017933e-01],\n",
       "       [-1.22890226e-01],\n",
       "       [ 1.23225307e+00],\n",
       "       [-1.57915629e+00],\n",
       "       [ 1.51981682e+00],\n",
       "       [ 1.27375593e+00],\n",
       "       [-8.45080274e-02],\n",
       "       [ 1.90465871e+00],\n",
       "       [-1.08392067e-01],\n",
       "       [-6.06998398e-01],\n",
       "       [ 1.74094083e-02],\n",
       "       [-1.19926803e+00],\n",
       "       [ 2.44936865e+00],\n",
       "       [-9.97019796e-01],\n",
       "       [-6.25342001e-01],\n",
       "       [ 7.62011180e-01]])"
      ]
     },
     "execution_count": 2,
     "metadata": {},
     "output_type": "execute_result"
    }
   ],
   "source": [
    "X_reg"
   ]
  },
  {
   "cell_type": "code",
   "execution_count": 3,
   "id": "73434574",
   "metadata": {},
   "outputs": [
    {
     "data": {
      "text/plain": [
       "(500, 1)"
      ]
     },
     "execution_count": 3,
     "metadata": {},
     "output_type": "execute_result"
    }
   ],
   "source": [
    "X_reg.shape"
   ]
  },
  {
   "cell_type": "code",
   "execution_count": 4,
   "id": "e8e38ac2",
   "metadata": {},
   "outputs": [
    {
     "data": {
      "text/plain": [
       "(500,)"
      ]
     },
     "execution_count": 4,
     "metadata": {},
     "output_type": "execute_result"
    }
   ],
   "source": [
    "y_reg.shape"
   ]
  },
  {
   "cell_type": "code",
   "execution_count": 5,
   "id": "b79b3383",
   "metadata": {},
   "outputs": [
    {
     "data": {
      "text/plain": [
       "[<matplotlib.lines.Line2D at 0x7f86c42b0fa0>]"
      ]
     },
     "execution_count": 5,
     "metadata": {},
     "output_type": "execute_result"
    },
    {
     "data": {
      "image/png": "[encoded data removed]",
      "text/plain": [
       "<Figure size 432x288 with 1 Axes>"
      ]
     },
     "metadata": {
      "needs_background": "light"
     },
     "output_type": "display_data"
    }
   ],
   "source": [
    "import matplotlib.pyplot as plt\n",
    "%matplotlib inline\n",
    "plt.plot(X_reg[:, 0], y_reg, \".\")"
   ]
  },
  {
   "cell_type": "code",
   "execution_count": 6,
   "id": "1ceb1a6d",
   "metadata": {},
   "outputs": [],
   "source": [
    "from sklearn.linear_model import LinearRegression\n",
    "linear_regression = LinearRegression()"
   ]
  },
  {
   "cell_type": "code",
   "execution_count": 7,
   "id": "69ed50b1",
   "metadata": {},
   "outputs": [],
   "source": [
    "from sklearn.model_selection import train_test_split\n",
    "X_reg_train, X_reg_test, y_reg_train, y_reg_test = train_test_split(X_reg, y_reg)"
   ]
  },
  {
   "cell_type": "code",
   "execution_count": 8,
   "id": "64d4dfd2",
   "metadata": {},
   "outputs": [
    {
     "data": {
      "text/plain": [
       "LinearRegression()"
      ]
     },
     "execution_count": 8,
     "metadata": {},
     "output_type": "execute_result"
    }
   ],
   "source": [
    "linear_regression.fit(X_reg_train, y_reg_train)"
   ]
  },
  {
   "cell_type": "code",
   "execution_count": 9,
   "id": "dde6b6c4",
   "metadata": {},
   "outputs": [
    {
     "data": {
      "text/plain": [
       "array([21.6040038])"
      ]
     },
     "execution_count": 9,
     "metadata": {},
     "output_type": "execute_result"
    }
   ],
   "source": [
    "linear_regression.coef_"
   ]
  },
  {
   "cell_type": "code",
   "execution_count": 10,
   "id": "ee08d02b",
   "metadata": {},
   "outputs": [
    {
     "data": {
      "text/plain": [
       "0.42781796624621293"
      ]
     },
     "execution_count": 10,
     "metadata": {},
     "output_type": "execute_result"
    }
   ],
   "source": [
    "linear_regression.intercept_"
   ]
  },
  {
   "cell_type": "code",
   "execution_count": 11,
   "id": "af728383",
   "metadata": {},
   "outputs": [
    {
     "data": {
      "text/plain": [
       "[<matplotlib.lines.Line2D at 0x7f86c35a9fd0>]"
      ]
     },
     "execution_count": 11,
     "metadata": {},
     "output_type": "execute_result"
    },
    {
     "data": {
      "image/png": "[encoded data removed]",
      "text/plain": [
       "<Figure size 432x288 with 1 Axes>"
      ]
     },
     "metadata": {
      "needs_background": "light"
     },
     "output_type": "display_data"
    }
   ],
   "source": [
    "plt.plot(X_reg_train, y_reg_train, \".\")\n",
    "y_lm_predicted = linear_regression.predict(X_reg_train)\n",
    "plt.plot(X_reg_train, y_lm_predicted, \".\")"
   ]
  },
  {
   "cell_type": "code",
   "execution_count": 12,
   "id": "0b630684",
   "metadata": {},
   "outputs": [
    {
     "data": {
      "text/plain": [
       "array([ 11.55547027,  -2.14422916, -14.70359399,  -5.06348486,\n",
       "         1.5816778 ,  13.86126323,  -0.10400684, -13.85986557,\n",
       "       -23.69240454,  13.7907397 ,  -9.24851131,  -8.62291797,\n",
       "         4.55235682, -24.97811613, -34.47933412, -18.53743863,\n",
       "        10.50918088,   7.24679657,   6.9126987 , -29.86810622,\n",
       "         6.57951723,  16.8903104 ,  -3.36279826,  27.0633768 ,\n",
       "        -1.15170916,  -5.32356765,  15.12004937, -31.35506185,\n",
       "        25.20545805,   1.74026543, -29.74209417, -15.1787395 ,\n",
       "         2.79135424,  13.8949368 , -14.07378599,  -7.18218906,\n",
       "       -12.92425244,  42.66101132,  -7.8860994 ,   5.49213559,\n",
       "        13.01896006, -34.73136613,  26.88208707,  13.05852556,\n",
       "        46.61346365,  14.70850277,  40.06506454, -16.3187766 ,\n",
       "        24.58397612,  20.31679047, -17.50715333,   8.77861113,\n",
       "        28.04914352,   9.26170674, -43.25982478,  -1.06995946,\n",
       "         3.32379571,   9.5769916 ,  -3.71659804,   6.59764763,\n",
       "       -25.11498733,  38.56612418,  -6.01218078,  20.33482875,\n",
       "         1.43385806,  -2.22710293,  -8.49526881, -10.98280658,\n",
       "       -10.55689189, -15.77452849,  16.15150358,  16.45894283,\n",
       "        34.10425879,   1.13242276,  -0.8825187 ,  35.36040324,\n",
       "        17.60356473, -30.77082217,  13.08046204,  29.19262248,\n",
       "       -23.71055905, -17.34076631,  17.59280907,  -2.5199348 ,\n",
       "        17.9020946 ,   5.45063131,  -4.51443987, -14.06117261,\n",
       "        -4.94368872, -19.78854845,  -3.78620157,  20.30388889,\n",
       "        -2.07792642,  15.00428833,  36.2861905 ,  -4.68016684,\n",
       "         8.04310755,   4.45829097, -20.21319303,  -4.95958057,\n",
       "        19.9035442 , -33.68828042,  -3.87133955, -15.24798495,\n",
       "        11.12636529,  -8.53453606, -11.36308923,  39.54262113,\n",
       "        10.17387965,  15.50810468,   7.32033981,  -6.18741469,\n",
       "        -0.40815996,  -4.08513384,  -1.94843861,  16.63971388,\n",
       "       -15.71379265, -24.63650139,  37.25387692, -30.70087314,\n",
       "         0.78487959,  25.15843334,  10.15297937,  13.7873075 ,\n",
       "        -4.71268052])"
      ]
     },
     "execution_count": 12,
     "metadata": {},
     "output_type": "execute_result"
    }
   ],
   "source": [
    "linear_regression.predict(X_reg_test)"
   ]
  },
  {
   "cell_type": "code",
   "execution_count": 13,
   "id": "2cdaf275",
   "metadata": {},
   "outputs": [
    {
     "data": {
      "text/plain": [
       "0.5873588121821574"
      ]
     },
     "execution_count": 13,
     "metadata": {},
     "output_type": "execute_result"
    }
   ],
   "source": [
    "linear_regression.score(X_reg_test, y_reg_test)"
   ]
  },
  {
   "cell_type": "code",
   "execution_count": 14,
   "id": "0c829ba1",
   "metadata": {},
   "outputs": [
    {
     "data": {
      "text/plain": [
       "0.4995823269500208"
      ]
     },
     "execution_count": 14,
     "metadata": {},
     "output_type": "execute_result"
    }
   ],
   "source": [
    "from sklearn.svm import SVR\n",
    "svm_regression = SVR()\n",
    "svm_regression.fit(X_reg_train, y_reg_train)\n",
    "svm_regression.score(X_reg_test, y_reg_test)"
   ]
  },
  {
   "cell_type": "code",
   "execution_count": null,
   "id": "ef952e10",
   "metadata": {},
   "outputs": [],
   "source": []
  }
 ],
 "metadata": {
  "kernelspec": {
   "display_name": "Python 3 (ipykernel)",
   "language": "python",
   "name": "python3"
  },
  "language_info": {
   "codemirror_mode": {
    "name": "ipython",
    "version": 3
   },
   "file_extension": ".py",
   "mimetype": "text/x-python",
   "name": "python",
   "nbconvert_exporter": "python",
   "pygments_lexer": "ipython3",
   "version": "3.9.7"
  }
 },
 "nbformat": 4,
 "nbformat_minor": 5
}
