{
 "cells": [
  {
   "cell_type": "code",
   "execution_count": 1,
   "id": "586ee54d",
   "metadata": {},
   "outputs": [
    {
     "data": {
      "text/plain": [
       "0.5893620279316908"
      ]
     },
     "execution_count": 1,
     "metadata": {},
     "output_type": "execute_result"
    }
   ],
   "source": [
    "import pandas as pd\n",
    "\n",
    "df = pd.read_csv(\"../data/Library_Usage.csv\")\n",
    "df['Total Checkouts'].corr(df['Total Renewals'])"
   ]
  },
  {
   "cell_type": "code",
   "execution_count": null,
   "id": "7068d732",
   "metadata": {},
   "outputs": [],
   "source": [
    "Das Anscombe Quartett ist ein Datenstatz, der aus 4 bivariaten Verteilungen besteht. Über die Spaltennamen ['x1', 'y1'], ['x2', 'y2'], ..., ['x4', 'y4'] können die zusammengehörenden Datenpaare ausgewählt werden.\n",
    "\n",
    "    Lies den Datensatz ein.\n",
    "    Berechne den Mittelwert, Median und die Standardabweichung der Spalten.\n",
    "    Berechne jeweils die Korrelation zweier zusammenhängender Spalten [x<i>, y<i>].\n",
    "    Erstelle jeweils ein Streudiagram zweier zusammenhängender Spalten [x<i>, y<i>].\n",
    "   "
   ]
  },
  {
   "cell_type": "code",
   "execution_count": 2,
   "id": "abace624",
   "metadata": {},
   "outputs": [],
   "source": [
    "import pandas as pd\n",
    "df = pd.read_csv(\"../data/anscombe.csv\")"
   ]
  },
  {
   "cell_type": "code",
   "execution_count": 3,
   "id": "ddcee42b",
   "metadata": {},
   "outputs": [
    {
     "data": {
      "text/plain": [
       "x1    9.000000\n",
       "y1    7.500909\n",
       "x2    9.000000\n",
       "y2    7.500909\n",
       "x3    9.000000\n",
       "y3    7.500000\n",
       "x4    9.000000\n",
       "y4    7.500909\n",
       "dtype: float64"
      ]
     },
     "execution_count": 3,
     "metadata": {},
     "output_type": "execute_result"
    }
   ],
   "source": [
    "df.mean()"
   ]
  },
  {
   "cell_type": "code",
   "execution_count": 4,
   "id": "51b144cb",
   "metadata": {},
   "outputs": [
    {
     "data": {
      "text/plain": [
       "x1    9.00\n",
       "y1    7.58\n",
       "x2    9.00\n",
       "y2    8.14\n",
       "x3    9.00\n",
       "y3    7.11\n",
       "x4    8.00\n",
       "y4    7.04\n",
       "dtype: float64"
      ]
     },
     "execution_count": 4,
     "metadata": {},
     "output_type": "execute_result"
    }
   ],
   "source": [
    "df.median()"
   ]
  },
  {
   "cell_type": "code",
   "execution_count": 5,
   "id": "1e30ec2f",
   "metadata": {},
   "outputs": [
    {
     "data": {
      "text/plain": [
       "x1    3.316625\n",
       "y1    2.031568\n",
       "x2    3.316625\n",
       "y2    2.031657\n",
       "x3    3.316625\n",
       "y3    2.030424\n",
       "x4    3.316625\n",
       "y4    2.030579\n",
       "dtype: float64"
      ]
     },
     "execution_count": 5,
     "metadata": {},
     "output_type": "execute_result"
    }
   ],
   "source": [
    "df.std()"
   ]
  },
  {
   "cell_type": "code",
   "execution_count": 4,
   "id": "f9aa7c6e",
   "metadata": {},
   "outputs": [],
   "source": [
    "import seaborn as sns\n",
    "import matplotlib.pyplot as plt\n",
    "import pandas as pd\n",
    "df = pd.read_csv(\"../data/anscombe.csv\")"
   ]
  },
  {
   "cell_type": "code",
   "execution_count": 8,
   "id": "7f748acb",
   "metadata": {},
   "outputs": [
    {
     "name": "stdout",
     "output_type": "stream",
     "text": [
      "x1, y1: 0.81642051634484\n",
      "x2, y2: 0.8162365060002427\n",
      "x3, y3: 0.8162867394895982\n",
      "x4, y4: 0.8165214368885028\n"
     ]
    }
   ],
   "source": [
    "for i in range(1, 5):\n",
    "    correlation = df[f'x{i}'].corr(df[f'y{i}'])\n",
    "    print(f'x{i}, y{i}: {correlation}')"
   ]
  },
  {
   "cell_type": "code",
   "execution_count": 9,
   "id": "473144bd",
   "metadata": {},
   "outputs": [
    {
     "name": "stderr",
     "output_type": "stream",
     "text": [
      "/home/nickli/anaconda3/lib/python3.9/site-packages/seaborn/_decorators.py:36: FutureWarning: Pass the following variables as keyword args: x, y. From version 0.12, the only valid positional argument will be `data`, and passing other arguments without an explicit keyword will result in an error or misinterpretation.\n",
      "  warnings.warn(\n",
      "/home/nickli/anaconda3/lib/python3.9/site-packages/seaborn/_decorators.py:36: FutureWarning: Pass the following variables as keyword args: x, y. From version 0.12, the only valid positional argument will be `data`, and passing other arguments without an explicit keyword will result in an error or misinterpretation.\n",
      "  warnings.warn(\n",
      "/home/nickli/anaconda3/lib/python3.9/site-packages/seaborn/_decorators.py:36: FutureWarning: Pass the following variables as keyword args: x, y. From version 0.12, the only valid positional argument will be `data`, and passing other arguments without an explicit keyword will result in an error or misinterpretation.\n",
      "  warnings.warn(\n",
      "/home/nickli/anaconda3/lib/python3.9/site-packages/seaborn/_decorators.py:36: FutureWarning: Pass the following variables as keyword args: x, y. From version 0.12, the only valid positional argument will be `data`, and passing other arguments without an explicit keyword will result in an error or misinterpretation.\n",
      "  warnings.warn(\n"
     ]
    },
    {
     "data": {
      "image/png": "[encoded data removed]",
      "text/plain": [
       "<Figure size 432x288 with 1 Axes>"
      ]
     },
     "metadata": {
      "needs_background": "light"
     },
     "output_type": "display_data"
    },
    {
     "data": {
      "image/png": "[encoded data removed]",
      "text/plain": [
       "<Figure size 432x288 with 1 Axes>"
      ]
     },
     "metadata": {
      "needs_background": "light"
     },
     "output_type": "display_data"
    },
    {
     "data": {
      "image/png": "[encoded data removed]",
      "text/plain": [
       "<Figure size 432x288 with 1 Axes>"
      ]
     },
     "metadata": {
      "needs_background": "light"
     },
     "output_type": "display_data"
    },
    {
     "data": {
      "image/png": "[encoded data removed]",
      "text/plain": [
       "<Figure size 432x288 with 1 Axes>"
      ]
     },
     "metadata": {
      "needs_background": "light"
     },
     "output_type": "display_data"
    }
   ],
   "source": [
    "for i in range(1, 5):\n",
    "    plt.figure()\n",
    "    sns.scatterplot(f'x{i}', f'y{i}', data=df)"
   ]
  },
  {
   "cell_type": "code",
   "execution_count": null,
   "id": "25caef1f",
   "metadata": {},
   "outputs": [],
   "source": [
    "#  Was fällt Dir auf? Informiere Dich über den Datensatz hier.\n",
    "Diagramm 1 steigt und fällt der Wert regelmäßig\n",
    "Diagramm 2 stetig steigend und am ende wieder sinkender Wert, Form einer Runden Kurve\n",
    "Diagramm 3 Stetig steigender Wert es gibt aber einen Ausreiser nach oben.\n",
    "Diagramm 4 es gibt einen Ausreiser, die restlichen Werte bleibt der X-Wert gleich nur der Y-Wert steigt"
   ]
  }
 ],
 "metadata": {
  "kernelspec": {
   "display_name": "Python 3 (ipykernel)",
   "language": "python",
   "name": "python3"
  },
  "language_info": {
   "codemirror_mode": {
    "name": "ipython",
    "version": 3
   },
   "file_extension": ".py",
   "mimetype": "text/x-python",
   "name": "python",
   "nbconvert_exporter": "python",
   "pygments_lexer": "ipython3",
   "version": "3.9.7"
  }
 },
 "nbformat": 4,
 "nbformat_minor": 5
}
