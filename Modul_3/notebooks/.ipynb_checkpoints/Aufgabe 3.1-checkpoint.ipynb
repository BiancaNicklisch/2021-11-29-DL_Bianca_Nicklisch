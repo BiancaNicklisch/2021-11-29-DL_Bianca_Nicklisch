{
 "cells": [
  {
   "cell_type": "code",
   "execution_count": 1,
   "id": "8ff7a4aa",
   "metadata": {},
   "outputs": [
    {
     "data": {
      "text/plain": [
       "25 to 34 years       91083\n",
       "35 to 44 years       67390\n",
       "10 to 19 years       58944\n",
       "45 to 54 years       52492\n",
       "0 to 9 years         38242\n",
       "65 to 74 years       30141\n",
       "20 to 24 years       29761\n",
       "55 to 59 years       21230\n",
       "60 to 64 years       19800\n",
       "75 years and over    14150\n",
       "Name: Age Range, dtype: int64"
      ]
     },
     "execution_count": 1,
     "metadata": {},
     "output_type": "execute_result"
    }
   ],
   "source": [
    "import pandas as pd\n",
    "df = pd.read_csv(\"../data/Library_Usage.csv\")\n",
    "df['Age Range'].value_counts()"
   ]
  },
  {
   "cell_type": "code",
   "execution_count": 2,
   "id": "0164be12",
   "metadata": {},
   "outputs": [
    {
     "data": {
      "text/plain": [
       "25 to 34 years       0.215208\n",
       "35 to 44 years       0.159227\n",
       "10 to 19 years       0.139271\n",
       "45 to 54 years       0.124026\n",
       "0 to 9 years         0.090357\n",
       "65 to 74 years       0.071216\n",
       "20 to 24 years       0.070318\n",
       "55 to 59 years       0.050161\n",
       "60 to 64 years       0.046783\n",
       "75 years and over    0.033433\n",
       "Name: Age Range, dtype: float64"
      ]
     },
     "execution_count": 2,
     "metadata": {},
     "output_type": "execute_result"
    }
   ],
   "source": [
    "df['Age Range'].value_counts(normalize=True)"
   ]
  },
  {
   "cell_type": "code",
   "execution_count": 3,
   "id": "e4a99f39",
   "metadata": {},
   "outputs": [
    {
     "data": {
      "text/plain": [
       "'25 to 34 years'"
      ]
     },
     "execution_count": 3,
     "metadata": {},
     "output_type": "execute_result"
    }
   ],
   "source": [
    "age_mode = df['Age Range'].mode()\n",
    "age_mode[0]"
   ]
  },
  {
   "cell_type": "code",
   "execution_count": 4,
   "id": "8933b487",
   "metadata": {},
   "outputs": [
    {
     "data": {
      "text/plain": [
       "2003    0.163555\n",
       "2015    0.127409\n",
       "2014    0.122570\n",
       "2013    0.113948\n",
       "2012    0.088311\n",
       "2011    0.062655\n",
       "2016    0.062081\n",
       "2010    0.057436\n",
       "2009    0.052679\n",
       "2008    0.048455\n",
       "2007    0.031383\n",
       "2006    0.025448\n",
       "2005    0.022832\n",
       "2004    0.021240\n",
       "Name: Year Patron Registered, dtype: float64"
      ]
     },
     "execution_count": 4,
     "metadata": {},
     "output_type": "execute_result"
    }
   ],
   "source": [
    "df['Year Patron Registered'].value_counts(normalize=True)"
   ]
  },
  {
   "cell_type": "code",
   "execution_count": 5,
   "id": "1eb0b441",
   "metadata": {},
   "outputs": [
    {
     "data": {
      "text/plain": [
       "25 to 34 years       91298\n",
       "35 to 44 years       67390\n",
       "10 to 19 years       58944\n",
       "45 to 54 years       52492\n",
       "0 to 9 years         38242\n",
       "65 to 74 years       30141\n",
       "20 to 24 years       29761\n",
       "55 to 59 years       21230\n",
       "60 to 64 years       19800\n",
       "75 years and over    14150\n",
       "Name: Age Range, dtype: int64"
      ]
     },
     "execution_count": 5,
     "metadata": {},
     "output_type": "execute_result"
    }
   ],
   "source": [
    "df['Age Range'].fillna(age_mode[0], inplace=True)\n",
    "df['Age Range'].value_counts()"
   ]
  },
  {
   "cell_type": "code",
   "execution_count": 7,
   "id": "a09561e6",
   "metadata": {},
   "outputs": [
    {
     "data": {
      "text/plain": [
       "161.98209697530748"
      ]
     },
     "execution_count": 7,
     "metadata": {},
     "output_type": "execute_result"
    }
   ],
   "source": [
    "df['Total Checkouts'].mean()"
   ]
  },
  {
   "cell_type": "code",
   "execution_count": 8,
   "id": "c2bb60d7",
   "metadata": {},
   "outputs": [
    {
     "data": {
      "text/plain": [
       "19.0"
      ]
     },
     "execution_count": 8,
     "metadata": {},
     "output_type": "execute_result"
    }
   ],
   "source": [
    "df['Total Checkouts'].median()"
   ]
  },
  {
   "cell_type": "code",
   "execution_count": null,
   "id": "d3392b64",
   "metadata": {},
   "outputs": [],
   "source": [
    "    #Erstelle eine Häufigkeitsverteilung für die Variable 'Year Patron Registered'. Wieviel Prozent der Kunden wurden 2013 im System registriert? Wie viele in den kommenden Jahren? Was fällt Dir auf?\n",
    "    2013 wurden 11,4% in dem System registriert.2014 wurden 12,3% registriert.2015 wurden 12,7% registriert und 216 haben sich nur 6 % neu registriert. Es ist zu beobachten das von 2013-2015 es einen \n",
    "    Zuwachs an Neuregistrierungen gab und es 2016 zu einem Schlagartigen sehr hohen Rückgang gab.\n",
    "    \n",
    "    #Wieviel Prozent der Kunden sind zwischen 25 und 34 Jahren?\n",
    "Es sind 21,52% der Kunden zwischen 25 und 34 Jahren alt\n",
    "\n",
    "   # Denkst Du, es handelt sich dabei um eine gute Methode, fehlende Werte zu ersetzen? Welche anderen Strategien fallen Dir ein?\n",
    "Nein ich finde es keine gute Methode, da Suchergebnisse dadurch verfälscht werden und auch die Statistik dann nichtmehr ganz stimmt.\n",
    "Ich würde diese Werte dann Rauslöschen oder zumindestens z.B. bei dem Alter eine Unbekannt Spalte anfügen."
   ]
  }
 ],
 "metadata": {
  "kernelspec": {
   "display_name": "Python 3 (ipykernel)",
   "language": "python",
   "name": "python3"
  },
  "language_info": {
   "codemirror_mode": {
    "name": "ipython",
    "version": 3
   },
   "file_extension": ".py",
   "mimetype": "text/x-python",
   "name": "python",
   "nbconvert_exporter": "python",
   "pygments_lexer": "ipython3",
   "version": "3.9.7"
  }
 },
 "nbformat": 4,
 "nbformat_minor": 5
}
