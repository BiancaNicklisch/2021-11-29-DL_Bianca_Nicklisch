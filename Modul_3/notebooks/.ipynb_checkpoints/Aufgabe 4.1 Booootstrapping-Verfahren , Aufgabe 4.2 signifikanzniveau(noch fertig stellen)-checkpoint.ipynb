{
 "cells": [
  {
   "cell_type": "code",
   "execution_count": 3,
   "id": "38fb8134",
   "metadata": {},
   "outputs": [
    {
     "data": {
      "text/plain": [
       "11.857142857142858"
      ]
     },
     "execution_count": 3,
     "metadata": {},
     "output_type": "execute_result"
    }
   ],
   "source": [
    "import pandas as pd\n",
    "x = pd.Series([21, 13,  8, 14, 10, 12,  5])\n",
    "x.mean()"
   ]
  },
  {
   "cell_type": "code",
   "execution_count": 4,
   "id": "5ca4e8e4",
   "metadata": {},
   "outputs": [
    {
     "data": {
      "text/plain": [
       "5    12\n",
       "0    21\n",
       "2     8\n",
       "2     8\n",
       "1    13\n",
       "3    14\n",
       "5    12\n",
       "dtype: int64"
      ]
     },
     "execution_count": 4,
     "metadata": {},
     "output_type": "execute_result"
    }
   ],
   "source": [
    "x.sample(n=len(x), replace=True) "
   ]
  },
  {
   "cell_type": "code",
   "execution_count": 5,
   "id": "68168f7e",
   "metadata": {},
   "outputs": [],
   "source": [
    "x_means = []\n",
    "S=10000\n",
    "for i in range(S):\n",
    "    x_mean = x.sample(n=len(x), replace=True).mean()\n",
    "    x_means.append(x_mean)"
   ]
  },
  {
   "cell_type": "code",
   "execution_count": 6,
   "id": "c28aece2",
   "metadata": {},
   "outputs": [
    {
     "name": "stderr",
     "output_type": "stream",
     "text": [
      "/home/nickli/anaconda3/lib/python3.9/site-packages/seaborn/distributions.py:2619: FutureWarning: `distplot` is a deprecated function and will be removed in a future version. Please adapt your code to use either `displot` (a figure-level function with similar flexibility) or `histplot` (an axes-level function for histograms).\n",
      "  warnings.warn(msg, FutureWarning)\n"
     ]
    },
    {
     "data": {
      "text/plain": [
       "<AxesSubplot:>"
      ]
     },
     "execution_count": 6,
     "metadata": {},
     "output_type": "execute_result"
    },
    {
     "data": {
      "image/png": "[encoded data removed]",
      "text/plain": [
       "<Figure size 432x288 with 1 Axes>"
      ]
     },
     "metadata": {},
     "output_type": "display_data"
    }
   ],
   "source": [
    "import seaborn as sns\n",
    "sns.set()\n",
    "sns.distplot(x_means, kde=False, bins=35)"
   ]
  },
  {
   "cell_type": "code",
   "execution_count": 7,
   "id": "06fef825",
   "metadata": {},
   "outputs": [
    {
     "data": {
      "text/plain": [
       "0.2954"
      ]
     },
     "execution_count": 7,
     "metadata": {},
     "output_type": "execute_result"
    }
   ],
   "source": [
    "x_means = pd.Series(x_means)\n",
    "x_means.between(9,11).mean()"
   ]
  },
  {
   "cell_type": "code",
   "execution_count": null,
   "id": "6d83c748",
   "metadata": {},
   "outputs": [],
   "source": [
    "#    Lies Sie den Datensatz ein.\n",
    "\n",
    "    # Um eine homogene Stichprobe zu erhalten filtere nach Bibliothekskunden die sich im Jahr 2010 registriert haben und auch noch im Jahr 2016 (als der Datensatz erstellt wurde) aktiv waren. [Achtung: Die Spalte 'Circulation Active Year' wird standardmäßig als Text eingelesen]\n",
    "    \n",
    "    # Betrachte die Variable 'Total Renewals'. Wie viele Verlängerungen wurden im Mittel durchgeführt?\n",
    "    Es wurden im Mittel 91.60 Verlängerungen durchgeführt.\n",
    "    \n",
    "    # Erstelle, wie oben beschrieben, eine Stichprobenverteilung für den Mittelwert.\n",
    "    \n",
    "    #Wie viel Prozent der Stichproben-Mittelwerte liegen zwischen 89 und 92 Verlängerungen?\n",
    "    Es liegen 43,82% zwischen den Verlängerungen.\n",
    "    \n",
    "    #Wie groß musst Du das Intervall wählen, so dass 90% aller Bootstrapping-Mittelwerte darin liegen? [Tipp: Nutze die Funktion pandas.Series.quantile]\n",
    "    Siehe Zeile 13."
   ]
  },
  {
   "cell_type": "code",
   "execution_count": 8,
   "id": "9960ccac",
   "metadata": {},
   "outputs": [],
   "source": [
    "import pandas as pd\n",
    "import numpy as np\n",
    "\n",
    "df = pd.read_csv(\"../data/Library_Usage.csv\", na_values=\"None\")"
   ]
  },
  {
   "cell_type": "code",
   "execution_count": 9,
   "id": "62be9058",
   "metadata": {},
   "outputs": [
    {
     "data": {
      "text/html": [
       "<div>\n",
       "<style scoped>\n",
       "    .dataframe tbody tr th:only-of-type {\n",
       "        vertical-align: middle;\n",
       "    }\n",
       "\n",
       "    .dataframe tbody tr th {\n",
       "        vertical-align: top;\n",
       "    }\n",
       "\n",
       "    .dataframe thead th {\n",
       "        text-align: right;\n",
       "    }\n",
       "</style>\n",
       "<table border=\"1\" class=\"dataframe\">\n",
       "  <thead>\n",
       "    <tr style=\"text-align: right;\">\n",
       "      <th></th>\n",
       "      <th>Patron Type Code</th>\n",
       "      <th>Patron Type Definition</th>\n",
       "      <th>Total Checkouts</th>\n",
       "      <th>Total Renewals</th>\n",
       "      <th>Age Range</th>\n",
       "      <th>Home Library Code</th>\n",
       "      <th>Home Library Definition</th>\n",
       "      <th>Circulation Active Month</th>\n",
       "      <th>Circulation Active Year</th>\n",
       "      <th>Notice Preference Code</th>\n",
       "      <th>Notice Preference Definition</th>\n",
       "      <th>Provided Email Address</th>\n",
       "      <th>Year Patron Registered</th>\n",
       "      <th>Outside of County</th>\n",
       "      <th>Supervisor District</th>\n",
       "    </tr>\n",
       "  </thead>\n",
       "  <tbody>\n",
       "    <tr>\n",
       "      <th>1</th>\n",
       "      <td>0</td>\n",
       "      <td>ADULT</td>\n",
       "      <td>31</td>\n",
       "      <td>22</td>\n",
       "      <td>25 to 34 years</td>\n",
       "      <td>S7</td>\n",
       "      <td>Sunset</td>\n",
       "      <td>April</td>\n",
       "      <td>2016.0</td>\n",
       "      <td>z</td>\n",
       "      <td>email</td>\n",
       "      <td>True</td>\n",
       "      <td>2010</td>\n",
       "      <td>False</td>\n",
       "      <td>4.0</td>\n",
       "    </tr>\n",
       "    <tr>\n",
       "      <th>14</th>\n",
       "      <td>0</td>\n",
       "      <td>ADULT</td>\n",
       "      <td>22</td>\n",
       "      <td>6</td>\n",
       "      <td>45 to 54 years</td>\n",
       "      <td>M2</td>\n",
       "      <td>Marina</td>\n",
       "      <td>May</td>\n",
       "      <td>2016.0</td>\n",
       "      <td>z</td>\n",
       "      <td>email</td>\n",
       "      <td>True</td>\n",
       "      <td>2010</td>\n",
       "      <td>False</td>\n",
       "      <td>2.0</td>\n",
       "    </tr>\n",
       "    <tr>\n",
       "      <th>45</th>\n",
       "      <td>0</td>\n",
       "      <td>ADULT</td>\n",
       "      <td>47</td>\n",
       "      <td>16</td>\n",
       "      <td>25 to 34 years</td>\n",
       "      <td>M4</td>\n",
       "      <td>Merced</td>\n",
       "      <td>June</td>\n",
       "      <td>2016.0</td>\n",
       "      <td>p</td>\n",
       "      <td>phone</td>\n",
       "      <td>False</td>\n",
       "      <td>2010</td>\n",
       "      <td>False</td>\n",
       "      <td>11.0</td>\n",
       "    </tr>\n",
       "    <tr>\n",
       "      <th>142</th>\n",
       "      <td>0</td>\n",
       "      <td>ADULT</td>\n",
       "      <td>28</td>\n",
       "      <td>15</td>\n",
       "      <td>45 to 54 years</td>\n",
       "      <td>S7</td>\n",
       "      <td>Sunset</td>\n",
       "      <td>June</td>\n",
       "      <td>2016.0</td>\n",
       "      <td>z</td>\n",
       "      <td>email</td>\n",
       "      <td>True</td>\n",
       "      <td>2010</td>\n",
       "      <td>False</td>\n",
       "      <td>4.0</td>\n",
       "    </tr>\n",
       "    <tr>\n",
       "      <th>171</th>\n",
       "      <td>0</td>\n",
       "      <td>ADULT</td>\n",
       "      <td>108</td>\n",
       "      <td>91</td>\n",
       "      <td>45 to 54 years</td>\n",
       "      <td>S7</td>\n",
       "      <td>Sunset</td>\n",
       "      <td>June</td>\n",
       "      <td>2016.0</td>\n",
       "      <td>z</td>\n",
       "      <td>email</td>\n",
       "      <td>True</td>\n",
       "      <td>2010</td>\n",
       "      <td>False</td>\n",
       "      <td>5.0</td>\n",
       "    </tr>\n",
       "  </tbody>\n",
       "</table>\n",
       "</div>"
      ],
      "text/plain": [
       "     Patron Type Code Patron Type Definition  Total Checkouts  Total Renewals  \\\n",
       "1                   0                  ADULT               31              22   \n",
       "14                  0                  ADULT               22               6   \n",
       "45                  0                  ADULT               47              16   \n",
       "142                 0                  ADULT               28              15   \n",
       "171                 0                  ADULT              108              91   \n",
       "\n",
       "          Age Range Home Library Code Home Library Definition  \\\n",
       "1    25 to 34 years                S7                  Sunset   \n",
       "14   45 to 54 years                M2                  Marina   \n",
       "45   25 to 34 years                M4                  Merced   \n",
       "142  45 to 54 years                S7                  Sunset   \n",
       "171  45 to 54 years                S7                  Sunset   \n",
       "\n",
       "    Circulation Active Month  Circulation Active Year Notice Preference Code  \\\n",
       "1                      April                   2016.0                      z   \n",
       "14                       May                   2016.0                      z   \n",
       "45                      June                   2016.0                      p   \n",
       "142                     June                   2016.0                      z   \n",
       "171                     June                   2016.0                      z   \n",
       "\n",
       "    Notice Preference Definition  Provided Email Address  \\\n",
       "1                          email                    True   \n",
       "14                         email                    True   \n",
       "45                         phone                   False   \n",
       "142                        email                    True   \n",
       "171                        email                    True   \n",
       "\n",
       "     Year Patron Registered  Outside of County  Supervisor District  \n",
       "1                      2010              False                  4.0  \n",
       "14                     2010              False                  2.0  \n",
       "45                     2010              False                 11.0  \n",
       "142                    2010              False                  4.0  \n",
       "171                    2010              False                  5.0  "
      ]
     },
     "execution_count": 9,
     "metadata": {},
     "output_type": "execute_result"
    }
   ],
   "source": [
    "df = df[(\n",
    "    (df['Year Patron Registered'] == 2010) & \n",
    "    (df['Circulation Active Year'] == 2016)\n",
    ")]\n",
    "df.head()"
   ]
  },
  {
   "cell_type": "code",
   "execution_count": 10,
   "id": "021a2904",
   "metadata": {},
   "outputs": [
    {
     "data": {
      "text/plain": [
       "91.6004630193737"
      ]
     },
     "execution_count": 10,
     "metadata": {},
     "output_type": "execute_result"
    }
   ],
   "source": [
    "df['Total Renewals'].mean()"
   ]
  },
  {
   "cell_type": "code",
   "execution_count": 11,
   "id": "e92d74eb",
   "metadata": {},
   "outputs": [],
   "source": [
    "bt_means = []\n",
    "alpha = 0.10\n",
    "S= 10000\n",
    "for i in range(S):\n",
    "    stat = df['Total Renewals'].sample(len(df), replace=True).mean()\n",
    "    bt_means.append(stat)"
   ]
  },
  {
   "cell_type": "code",
   "execution_count": 12,
   "id": "d41dc595",
   "metadata": {},
   "outputs": [
    {
     "data": {
      "text/plain": [
       "0.4382"
      ]
     },
     "execution_count": 12,
     "metadata": {},
     "output_type": "execute_result"
    }
   ],
   "source": [
    "pd.Series(bt_means).between(89, 92).mean()"
   ]
  },
  {
   "cell_type": "code",
   "execution_count": 13,
   "id": "52efc635",
   "metadata": {},
   "outputs": [
    {
     "data": {
      "text/plain": [
       "0.05    87.780096\n",
       "0.95    95.514804\n",
       "dtype: float64"
      ]
     },
     "execution_count": 13,
     "metadata": {},
     "output_type": "execute_result"
    }
   ],
   "source": [
    "pd.Series(bt_means).quantile((alpha/2, 1-alpha/2))"
   ]
  },
  {
   "cell_type": "code",
   "execution_count": null,
   "id": "830e3189",
   "metadata": {},
   "outputs": [],
   "source": []
  }
 ],
 "metadata": {
  "kernelspec": {
   "display_name": "Python 3 (ipykernel)",
   "language": "python",
   "name": "python3"
  },
  "language_info": {
   "codemirror_mode": {
    "name": "ipython",
    "version": 3
   },
   "file_extension": ".py",
   "mimetype": "text/x-python",
   "name": "python",
   "nbconvert_exporter": "python",
   "pygments_lexer": "ipython3",
   "version": "3.9.7"
  }
 },
 "nbformat": 4,
 "nbformat_minor": 5
}
