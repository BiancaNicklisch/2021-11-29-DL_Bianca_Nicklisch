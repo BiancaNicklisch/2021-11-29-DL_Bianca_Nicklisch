{
 "cells": [
  {
   "cell_type": "code",
   "execution_count": 2,
   "id": "43edec2b",
   "metadata": {},
   "outputs": [],
   "source": [
    "import pandas as pd\n",
    "df = pd.read_csv(\"../data/Library_Usage.csv\")"
   ]
  },
  {
   "cell_type": "code",
   "execution_count": 3,
   "id": "a457f5f5",
   "metadata": {},
   "outputs": [
    {
     "data": {
      "text/plain": [
       "205847.027758416"
      ]
     },
     "execution_count": 3,
     "metadata": {},
     "output_type": "execute_result"
    }
   ],
   "source": [
    "df['Total Checkouts'].var()"
   ]
  },
  {
   "cell_type": "code",
   "execution_count": 4,
   "id": "a05d6261",
   "metadata": {},
   "outputs": [
    {
     "data": {
      "text/plain": [
       "453.7036783611259"
      ]
     },
     "execution_count": 4,
     "metadata": {},
     "output_type": "execute_result"
    }
   ],
   "source": [
    "df['Total Checkouts'].std()"
   ]
  },
  {
   "cell_type": "code",
   "execution_count": 5,
   "id": "308571bd",
   "metadata": {},
   "outputs": [
    {
     "data": {
      "text/plain": [
       "225.0099169494503"
      ]
     },
     "execution_count": 5,
     "metadata": {},
     "output_type": "execute_result"
    }
   ],
   "source": [
    "df['Total Renewals'].std()"
   ]
  },
  {
   "cell_type": "code",
   "execution_count": 6,
   "id": "d066e30f",
   "metadata": {},
   "outputs": [
    {
     "data": {
      "text/plain": [
       "161.98209697530748"
      ]
     },
     "execution_count": 6,
     "metadata": {},
     "output_type": "execute_result"
    }
   ],
   "source": [
    "df['Total Checkouts'].mean()"
   ]
  },
  {
   "cell_type": "code",
   "execution_count": 7,
   "id": "59ed7057",
   "metadata": {},
   "outputs": [
    {
     "data": {
      "text/plain": [
       "59.657327464056976"
      ]
     },
     "execution_count": 7,
     "metadata": {},
     "output_type": "execute_result"
    }
   ],
   "source": [
    "df['Total Renewals'].mean()"
   ]
  },
  {
   "cell_type": "code",
   "execution_count": 8,
   "id": "8d058537",
   "metadata": {},
   "outputs": [],
   "source": [
    "df_cv= df['Total Checkouts'].std()/df['Total Checkouts'].mean()"
   ]
  },
  {
   "cell_type": "code",
   "execution_count": 9,
   "id": "4a3e0fb1",
   "metadata": {},
   "outputs": [
    {
     "name": "stdout",
     "output_type": "stream",
     "text": [
      "2.8009495298130904\n"
     ]
    }
   ],
   "source": [
    "print(df_cv)"
   ]
  },
  {
   "cell_type": "code",
   "execution_count": 10,
   "id": "8c82e90a",
   "metadata": {},
   "outputs": [],
   "source": [
    "df_cv_1= df['Total Renewals'].std()/df['Total Renewals'].mean()"
   ]
  },
  {
   "cell_type": "code",
   "execution_count": 11,
   "id": "54358f21",
   "metadata": {},
   "outputs": [
    {
     "name": "stdout",
     "output_type": "stream",
     "text": [
      "3.7717062851167245\n"
     ]
    }
   ],
   "source": [
    "print(df_cv_1)"
   ]
  },
  {
   "cell_type": "code",
   "execution_count": null,
   "id": "d51adbe5",
   "metadata": {},
   "outputs": [],
   "source": [
    "#Welche Variable streut mehr: 'Total Checkouts' oder 'Total Renewals'? Vergleiche die Standardabweichungen und den Variationskoeffizienten miteinander.\n",
    "Die Standardabweichung bei 'Total Checkouts' ist viel höher als bei 'Total Renewals', allerdings ist der Vergleich von Standardabweichungen verschiedener Variablen nicht sinnvoll."
   ]
  },
  {
   "cell_type": "code",
   "execution_count": 12,
   "id": "a7bdd901",
   "metadata": {},
   "outputs": [
    {
     "data": {
      "text/plain": [
       "35907"
      ]
     },
     "execution_count": 12,
     "metadata": {},
     "output_type": "execute_result"
    }
   ],
   "source": [
    "df['Total Checkouts'].max() - df['Total Checkouts'].min()"
   ]
  },
  {
   "cell_type": "code",
   "execution_count": 13,
   "id": "b73cd126",
   "metadata": {},
   "outputs": [
    {
     "data": {
      "text/plain": [
       "111.0"
      ]
     },
     "execution_count": 13,
     "metadata": {},
     "output_type": "execute_result"
    }
   ],
   "source": [
    "df['Total Checkouts'].quantile(q=0.75) - df['Total Checkouts'].quantile(q=0.25)"
   ]
  },
  {
   "cell_type": "code",
   "execution_count": 14,
   "id": "e84b92f7",
   "metadata": {},
   "outputs": [
    {
     "name": "stdout",
     "output_type": "stream",
     "text": [
      "166.5\n"
     ]
    }
   ],
   "source": [
    "IQR=(df['Total Checkouts'].quantile(q=0.75) - df['Total Checkouts'].quantile(q=0.25))*1.5\n",
    "print(IQR)"
   ]
  },
  {
   "cell_type": "code",
   "execution_count": 15,
   "id": "1343006c",
   "metadata": {},
   "outputs": [
    {
     "name": "stdout",
     "output_type": "stream",
     "text": [
      "113.0\n"
     ]
    }
   ],
   "source": [
    "x075=df['Total Checkouts'].quantile(q=0.75)\n",
    "print(x075)"
   ]
  },
  {
   "cell_type": "code",
   "execution_count": 16,
   "id": "832230d0",
   "metadata": {},
   "outputs": [
    {
     "name": "stdout",
     "output_type": "stream",
     "text": [
      "279.5\n"
     ]
    }
   ],
   "source": [
    "xc = x075 + IQR\n",
    "print(xc)"
   ]
  },
  {
   "cell_type": "code",
   "execution_count": 18,
   "id": "de3d24c3",
   "metadata": {},
   "outputs": [
    {
     "data": {
      "text/plain": [
       "14.10940658593263"
      ]
     },
     "execution_count": 18,
     "metadata": {},
     "output_type": "execute_result"
    }
   ],
   "source": [
    "df_filtered5 = df[(df['Total Checkouts'] < xc)]\n",
    "((df.shape[0]-df_filtered5.shape[0])/df.shape[0])*100"
   ]
  },
  {
   "cell_type": "code",
   "execution_count": null,
   "id": "31cb81d5",
   "metadata": {},
   "outputs": [],
   "source": [
    "#Wie viel Prozent der Beobachtungen im Datensatz werden mit dieser Methode als Ausreißer markiert?\n",
    "Es werden mit dieser Methode 14,1% als Ausreiser markiert."
   ]
  }
 ],
 "metadata": {
  "kernelspec": {
   "display_name": "Python 3 (ipykernel)",
   "language": "python",
   "name": "python3"
  },
  "language_info": {
   "codemirror_mode": {
    "name": "ipython",
    "version": 3
   },
   "file_extension": ".py",
   "mimetype": "text/x-python",
   "name": "python",
   "nbconvert_exporter": "python",
   "pygments_lexer": "ipython3",
   "version": "3.9.7"
  }
 },
 "nbformat": 4,
 "nbformat_minor": 5
}
